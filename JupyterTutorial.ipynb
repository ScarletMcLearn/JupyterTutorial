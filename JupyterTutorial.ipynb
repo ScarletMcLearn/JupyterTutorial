{
 "cells": [
  {
   "cell_type": "markdown",
   "metadata": {},
   "source": [
    "# Markdown\n",
    "## There are three types of cells. This is a Markdown cell. \n",
    "\n",
    "Markdown is a typesetting language that makes text formatting easy.\n",
    "\n",
    "## You can make headers\n",
    "### and subheaders\n",
    "#### and subheaders\n",
    "\n",
    "## You can also make lists\n",
    "1. First ordered list item.\n",
    "2. Another item.\n",
    "  * Unordered sub-list\n",
    "\n",
    "   If you put 3 blank spaces, You can even have properyly indented paragraphs!\n",
    "\n",
    "\n",
    "\n",
    "## You can make equations, just like in LaTEX. For example:\n",
    "\\begin{equation}\n",
    "a^2 + b^2 = c^2\n",
    "\\end{equation}\n",
    "\n",
    "\n",
    "\n",
    "\n",
    "## You can include blockquotes\n",
    "Albert Einstein once said,\n",
    "\n",
    ">It is not enough that you should understand about applied science in order that your work may increase man's blessings. Concern for man himself and his fate must always form the chief interest of all technical endeavours... in order that the creations of our minds shall be a blessing and not a curse to mankind. Never forget this in the midst of your diagrams and equations. \n",
    "   \n",
    "## Or use html\n",
    "\n",
    "## You can even make images. Here's a picture from innovation's space article.\n",
    "\n",
    "![Spaaaace](http://princetoninnovation.org/magazine/wp-content/uploads/2015/12/5162405776_c55a983222_z.jpg)\n",
    "\n",
    "\n",
    "   The great thing about Markdown is that it makes it easy to log your work while you code! It's also easier to share: instead of having to comment every last variable, you can have summaries scattered throughout the text."
   ]
  },
  {
   "cell_type": "code",
   "execution_count": 2,
   "metadata": {
    "collapsed": false
   },
   "outputs": [
    {
     "name": "stdout",
     "output_type": "stream",
     "text": [
      "Hello world!\n"
     ]
    }
   ],
   "source": [
    "# This is a code cell. To run it, press Shift+Enter. \n",
    "# The output goes below, and it stays there until you run it again!\n",
    "\n",
    "print \"Hello world!\""
   ]
  },
  {
   "cell_type": "code",
   "execution_count": 8,
   "metadata": {
    "collapsed": false
   },
   "outputs": [
    {
     "name": "stdout",
     "output_type": "stream",
     "text": [
      "Show the files in the current directory:\n",
      "JupyterTutorial.ipynb trees.txt\n",
      "\n",
      "What directory are we in?\n",
      "/Users/jlu96/Dropbox/Writing/Innovation/Jupyter\n",
      "\n",
      "Can we change directories?\n",
      "Now we're in :\n",
      "/Users/jlu96/Dropbox/Writing/Innovation/Jupyter\n",
      "\n",
      "Cool, that's it for now.\n",
      "/bin/sh: line 0: cd: Jupyter: No such file or directory\n"
     ]
    }
   ],
   "source": [
    "# Code cells aren't just python cells. You can issue terminal commands\n",
    "# By prefacing the code with an exclamation.\n",
    "\n",
    "print \"Show the files in the current directory:\"\n",
    "!ls\n",
    "print \"\\nWhat directory are we in?\"\n",
    "!pwd\n",
    "print \"\\nCan we change directories?\"\n",
    "!cd ..\n",
    "print \"Now we're in :\"\n",
    "!pwd\n",
    "print \"\\nCool, that's it for now.\"\n",
    "!cd Jupyter"
   ]
  },
  {
   "cell_type": "code",
   "execution_count": 15,
   "metadata": {
    "collapsed": false
   },
   "outputs": [
    {
     "name": "stdout",
     "output_type": "stream",
     "text": [
      "a is 3 and b is I lost\n"
     ]
    }
   ],
   "source": [
    "# The great thing about jupyter is that when you run a cell, the variables\n",
    "# stay the same between cells! \n",
    "a = 3\n",
    "b = \"I lost\"\n",
    "print \"a is\", a, \"and b is\", b"
   ]
  },
  {
   "cell_type": "code",
   "execution_count": 14,
   "metadata": {
    "collapsed": false
   },
   "outputs": [
    {
     "name": "stdout",
     "output_type": "stream",
     "text": [
      "Now a is 6 and b is I lost the game\n"
     ]
    }
   ],
   "source": [
    "# This makes it easy to split up work\n",
    "a *= 2\n",
    "b += \" the game\"\n",
    "print \"Now a is\", a, \"and b is\", b"
   ]
  },
  {
   "cell_type": "markdown",
   "metadata": {},
   "source": [
    "### There are a bunch of great keyboard shortcuts. Click Help to look them up!\n",
    "\n",
    "### Sold on Jupyter yet? If not, keep reading. It's like magic!"
   ]
  },
  {
   "cell_type": "code",
   "execution_count": 20,
   "metadata": {
    "collapsed": false
   },
   "outputs": [
    {
     "name": "stdout",
     "output_type": "stream",
     "text": [
      "CPU times: user 4 µs, sys: 13 µs, total: 17 µs\n",
      "Wall time: 21 µs\n"
     ]
    }
   ],
   "source": [
    "# Jupyter has builtin \"magic\" commands\n",
    "# Say I want to time my code. Easy: add %time to do so.\n",
    "\n",
    "%time x = 2 * 2 * 2"
   ]
  },
  {
   "cell_type": "code",
   "execution_count": 3,
   "metadata": {
    "collapsed": false
   },
   "outputs": [
    {
     "name": "stdout",
     "output_type": "stream",
     "text": [
      "CPU times: user 532 ms, sys: 39.5 ms, total: 571 ms\n",
      "Wall time: 576 ms\n"
     ]
    }
   ],
   "source": [
    "# for longer code, use %%timeit\n",
    "# if it's too long, you can restart the kernel\n",
    "\n",
    "def long_code():\n",
    "    for i in range(10000000):\n",
    "        x = 2**130\n",
    "\n",
    "\n",
    "%time long_code()\n",
    "\n"
   ]
  },
  {
   "cell_type": "code",
   "execution_count": 2,
   "metadata": {
    "collapsed": true
   },
   "outputs": [],
   "source": [
    "# Another great command is tab completion. Got an annoyingly long variable?\n",
    "\n",
    "an_annoyingly_long_variable_name = set([3,4,5,6])\n",
    "\n",
    "def slightly_shorter_function_name():\n",
    "    print \"hi\""
   ]
  },
  {
   "cell_type": "code",
   "execution_count": 3,
   "metadata": {
    "collapsed": false
   },
   "outputs": [
    {
     "data": {
      "text/plain": [
       "<function union>"
      ]
     },
     "execution_count": 3,
     "metadata": {},
     "output_type": "execute_result"
    }
   ],
   "source": [
    "# No more typing!\n",
    "an_annoyingly_long_variable_name\n",
    "\n",
    "slightly_shorter_function_name\n",
    "\n",
    "# It Even has completion for the variable methods/attributes!\n",
    "an_annoyingly_long_variable_name.union"
   ]
  },
  {
   "cell_type": "markdown",
   "metadata": {},
   "source": [
    "# Great. Now we've got Jupyter's basics under our belt-- time for some interactive computing."
   ]
  },
  {
   "cell_type": "markdown",
   "metadata": {},
   "source": [
    "# Section 1: Basic Data Analysis: Plotting, Regression, Interpolation"
   ]
  },
  {
   "cell_type": "code",
   "execution_count": 1,
   "metadata": {
    "collapsed": true
   },
   "outputs": [],
   "source": [
    "# First let's import the basic stack\n",
    "import numpy as np\n",
    "import csv\n",
    "import matplotlib.pyplot as plt\n",
    "\n",
    "datafile = 'trees.txt'"
   ]
  },
  {
   "cell_type": "code",
   "execution_count": null,
   "metadata": {
    "collapsed": true
   },
   "outputs": [],
   "source": [
    "# Section 2: Lists, Tuples, Sorting and Lambdas"
   ]
  },
  {
   "cell_type": "code",
   "execution_count": 7,
   "metadata": {
    "collapsed": false,
    "scrolled": true
   },
   "outputs": [
    {
     "name": "stdout",
     "output_type": "stream",
     "text": [
      "a is  [3, 4, 'hello']\n",
      "now as is [3, 4, 'hello', 'to', 'be', 'or', 'not', 'to', 'be']\n",
      "now a is  [3, 4, 'hello', 'to', 'be', 'or', 'not', 'to', 'be', ['to', 'be', 'or', 'not', 'to', 'be']]\n",
      "after removing 4, a is  [3, 'hello', 'to', 'be', 'or', 'not', 'to', 'be', ['to', 'be', 'or', 'not', 'to', 'be']]\n",
      "[0, 1, 2, 3, 4, 5]\n"
     ]
    }
   ],
   "source": [
    "# Unlike most languages, anything can be in a list!\n",
    "\n",
    "a = [3, 4]\n",
    "a.append('hello')\n",
    "\n",
    "print \"a is \", a\n",
    "\n",
    "b = ['to', 'be', 'or', 'not', 'to', 'be']\n",
    "\n",
    "a.extend(b)\n",
    "\n",
    "print \"now as is\", a\n",
    "\n",
    "# you can even put lists in lists!\n",
    "a.append(b)\n",
    "\n",
    "print \"now a is \", a\n",
    "\n",
    "a.remove(4)\n",
    "print \"after removing 4, a is \", a"
   ]
  },
  {
   "cell_type": "code",
   "execution_count": null,
   "metadata": {
    "collapsed": true
   },
   "outputs": [],
   "source": [
    "# NOT DONE WITH TUPLES\n",
    "\n",
    "t = ('a', 'b', 'c', 1000)\n",
    "\n",
    "print \"Length of tuple is \", len(t)\n",
    "print "
   ]
  },
  {
   "cell_type": "code",
   "execution_count": null,
   "metadata": {
    "collapsed": true
   },
   "outputs": [],
   "source": [
    "# Python provides a variety of ways to index objects\n",
    "# it's easy to take sublists!\n",
    "\n",
    "print \"first elements of a are \", a[2]\n",
    "print \"all elements are \", a[0:]\n",
    "print \"equivalently \", a[:]\n",
    "print \"all elements but the first are\", a[1:]\n",
    "print \"all elements up to the fifth are \", a[:5] # the last is NOT included\n",
    "print \"all elements but the last two are \", a[:-2]\n",
    "\n",
    "print \" all elements but the fifth are \", a[:5] + a[6:]\n",
    "\n",
    "print \"Is 3 in a?\", 3 in a\n",
    "\n",
    "print \"how long is a?\", len(a)\n",
    "\n",
    "print \"At what index is 'or' in a?\", a.index(\"or\")\n",
    "# notice that it doesn't find or in the last list, even though it contains or\n",
    "# that's because \"or\" is different from a list containing \"or\"\n",
    "\n",
    "print \"how many times is 'to' in a?\", a.count(\"to\")\n",
    "\n",
    "print \"Reverse a: \", a.reverse()"
   ]
  },
  {
   "cell_type": "code",
   "execution_count": 13,
   "metadata": {
    "collapsed": false
   },
   "outputs": [
    {
     "name": "stdout",
     "output_type": "stream",
     "text": [
      "x is a list from 0 to 5 [0, 1, 2, 3, 4, 5]\n",
      "y is a list from 0 to 20, skippin 4s [0, 4, 8, 12, 16, 20]\n",
      "zipped x and y  [(0, 0), (1, 4), (2, 8), (3, 12), (4, 16), (5, 20)]\n",
      "Unzipped list is  [(0, 1, 2, 3, 4, 5), (0, 4, 8, 12, 16, 20)]\n",
      "x times y is  [0, 4, 16, 36, 64, 100]\n"
     ]
    }
   ],
   "source": [
    "# Python has very convenient list functions that work right out of the box\n",
    "x = range(6)\n",
    "print \"x is a list from 0 to 5\", x\n",
    "\n",
    "y = range(0, 24, 4)\n",
    "print \"y is a list from 0 to 20, skipping 4s\", y\n",
    "\n",
    "# the * function unravels the list when you call a function\n",
    "\n",
    "\n",
    "# the zip() function is great for putting lists together\n",
    "# it pairs each of the elements in the lists together if they have the same index\n",
    "\n",
    "xy_zip = zip(x, y)\n",
    "print \"zipped x and y \", xy_zip\n",
    "\n",
    "# To get the originals back, use the zip function with the * function\n",
    "# the * unravels the xy_zip into just (0, 0), (1, 4), (2, 8), (3, 12), (4, 16), (5, 20)\n",
    "# Then, the zip takes the first element of each: 0, 1, 2, 3, 4, 5, and puts them in x2\n",
    "xy_unzip = zip(*xy_zip)\n",
    "print \"Unzipped list is \", xy_unzip \n",
    "\n",
    "\n",
    "# List comprehensions make it easy to make lists out of other lists\n",
    "\n",
    "x_times_y = [x[i] * y[i] for i in range(len(x))]\n",
    "\n",
    "print \"x times y is \", x_times_y\n"
   ]
  },
  {
   "cell_type": "code",
   "execution_count": 24,
   "metadata": {
    "collapsed": false
   },
   "outputs": [
    {
     "name": "stdout",
     "output_type": "stream",
     "text": [
      "Our random array is  [1, 7, 3, 8, 3, 1, 1, 8, 4, 7]\n",
      "What are the max and min?\n",
      "8 1\n",
      "What's our array after sorting? [1, 1, 1, 3, 3, 4, 7, 7, 8, 8]\n",
      "What if we sort it in reverse?\n",
      "[8, 8, 7, 7, 4, 3, 3, 1, 1, 1]\n",
      "Our tuples array is  [(5, 8), (6, 4), (1, 5), (7, 3), (3, 6)]\n",
      "Our tuples array after sorting is  [(1, 5), (3, 6), (5, 8), (6, 4), (7, 3)]\n",
      "Let's sort by the second entry first\n",
      "[(7, 3), (6, 4), (1, 5), (3, 6), (5, 8)]\n",
      "Let's sort by first whether the first entry is even, then by the value of the second entry\n",
      "[(6, 4), (7, 3), (1, 5), (3, 6), (5, 8)]\n"
     ]
    }
   ],
   "source": [
    "# List and sorting\n",
    "import numpy as np\n",
    "\n",
    "rand_array = [np.random.randint(low = 1, high = 10) for i in range(10)]\n",
    "\n",
    "print \"Our random array is \", rand_array\n",
    "\n",
    "print \"What are the max and min?\"\n",
    "print max(rand_array), min(rand_array)\n",
    "\n",
    "rand_array.sort()\n",
    "print \"What's our array after sorting?\", rand_array\n",
    "\n",
    "print \"What if we sort it in reverse?\"\n",
    "print sorted(rand_array, reverse=True)\n",
    "\n",
    "\n",
    "\n",
    "tuples_array = [(np.random.randint(low = 1, high = 10), np.random.randint(low = 1, high = 10)) for i in range(5)]\n",
    "print \"Our tuples array is \", tuples_array\n",
    "print \"Our tuples array after sorting is \", sorted(tuples_array)\n",
    "\n",
    "# It sorts first by the first entry, then by the second\n",
    "\n",
    "# we can define creative ways to sort\n",
    "# a lambda is an inline function\n",
    "\n",
    "print \"Let's sort by the second entry first\"\n",
    "\n",
    "print sorted(tuples_array, key = lambda entry: (entry[1], entry[0]))\n",
    "\n",
    "print \"Let's sort by first whether the first entry is even, then by the value of the second entry\"\n",
    "print sorted(tuples_array, key = lambda entry: (entry[0] %2 != 0, entry[1]))"
   ]
  },
  {
   "cell_type": "code",
   "execution_count": 4,
   "metadata": {
    "collapsed": false
   },
   "outputs": [
    {
     "name": "stdout",
     "output_type": "stream",
     "text": [
      "the list a was [3, 4, 5]\n",
      "the set a is  set([3, 4, 5])\n",
      "it can be unioned with the b set  set(['a', 'c', 3, 4, 5, 'b'])\n",
      "the tuple a is  (3, 4, 5)\n"
     ]
    }
   ],
   "source": [
    "# sets and conversions between each\n",
    "a = [3,4,5]\n",
    "a_set = set(a)\n",
    "a_tuple = tuple(a)\n",
    "b_set = set(['a', 'b', 'c'])\n",
    "print \"the list a was\", a\n",
    "print \"the set a is \", a_set\n",
    "print \"it can be unioned with the b set \", a_set.union(b_set)\n",
    "print \"the tuple a is \", c\n"
   ]
  },
  {
   "cell_type": "code",
   "execution_count": 6,
   "metadata": {
    "collapsed": false
   },
   "outputs": [
    {
     "name": "stdout",
     "output_type": "stream",
     "text": [
      "{'orange': 'not green', 1: 'one', 'apple': 'a red fruit'}\n",
      "an apple is  a red fruit\n",
      "After an update an apple is  [1, 2, 3, 4, 5]\n",
      "Does our dictionary contain a banana ?\n",
      "False\n",
      "I don't want an orange any more. Can I remove it?\n",
      "False\n"
     ]
    }
   ],
   "source": [
    "# Let's learn about dictionaries\n",
    "# These are a convenient way to easily access and look up anything, it can even be an object\n",
    "\n",
    "# Let's call our dictionary webster.\n",
    "\n",
    "webster = {}\n",
    "\n",
    "# We can put any type of object in. the usual is strings\n",
    "\n",
    "webster['apple'] = 'a red fruit'\n",
    "webster['orange'] = 'not green'\n",
    "\n",
    "webster[1] = 'one'\n",
    "\n",
    "print webster\n",
    "\n",
    "print \"an apple is \", webster['apple']\n",
    "\n",
    "webster['apple'] = [1,2, 3, 4, 5]\n",
    "\n",
    "print \"After an update an apple is \", webster['apple']\n",
    "\n",
    "print \"Does our dictionary contain a banana ?\"\n",
    "print \"banana\" in webster\n",
    "\n",
    "print \"I don't want an orange any more. Let's remove it. Is it still there?\"\n",
    "webster.pop(\"orange\")\n",
    "print \"orange\" in webster\n",
    "\n",
    "# Functions for converting b/n tuples, dictionaries"
   ]
  },
  {
   "cell_type": "code",
   "execution_count": 25,
   "metadata": {
    "collapsed": false
   },
   "outputs": [
    {
     "name": "stdout",
     "output_type": "stream",
     "text": [
      "Webster's keys are  [1, 'apple']\n",
      "Webster's values are  ['one', [1, 2, 3, 4, 5]]\n",
      "Webster's items are  [(1, 'one'), ('apple', [1, 2, 3, 4, 5])]\n",
      "value for key  1 is one\n",
      "value for key  apple is [1, 2, 3, 4, 5]\n"
     ]
    }
   ],
   "source": [
    "# It's easy to iterate through these\n",
    "\n",
    "print \"Webster's keys are \", webster.keys()\n",
    "\n",
    "print \"Webster's values are \", webster.values()\n",
    "\n",
    "print \"Webster's items are \", webster.items()\n",
    "\n",
    "for key in webster.keys():\n",
    "    print \"value for key \", key, \"is\", webster[key]"
   ]
  },
  {
   "cell_type": "code",
   "execution_count": 4,
   "metadata": {
    "collapsed": false
   },
   "outputs": [
    {
     "name": "stdout",
     "output_type": "stream",
     "text": [
      "WORD\tSUBSTITUTE\r\n",
      "Debate\tDance-Off\r\n",
      "Self-Driving\tUncontrollably Swerving\r\n",
      "Poll\tPsychic Reading\r\n",
      "Candidate\tAirbender\r\n",
      "Drone\tDog\r\n",
      "Vows to\tProbably won't\r\n",
      "At large\tVery large\r\n",
      "Successfully\tSuddenly\r\n",
      "Expands\tPhysically Expands\r\n"
     ]
    }
   ],
   "source": [
    "# find and replace tool\n",
    "\n",
    "in_filename = 'USA_Today_4_25_16.txt'\n",
    "out_filename = 'USA_Today_4_25_16_xkcdified.txt'\n",
    "xkcd_filename = 'xkcd_substitutions.txt'\n",
    "\n",
    "\n",
    "!head $xkcd_filename"
   ]
  },
  {
   "cell_type": "code",
   "execution_count": 5,
   "metadata": {
    "collapsed": false
   },
   "outputs": [],
   "source": [
    "import csv\n",
    "\n",
    "xkcd_replace = {}\n",
    "\n",
    "# first let's read in the dictionary\n",
    "\n",
    "with open(xkcd_filename, 'rU') as xkcdfile:\n",
    "    reader = csv.DictReader(xkcdfile, delimiter = '\\t')\n",
    "    for row in reader:\n",
    "        word = row['WORD']\n",
    "        sub = row['SUBSTITUTE']\n",
    "        \n",
    "        xkcd_replace[word] = sub\n"
   ]
  },
  {
   "cell_type": "code",
   "execution_count": 6,
   "metadata": {
    "collapsed": false
   },
   "outputs": [
    {
     "name": "stdout",
     "output_type": "stream",
     "text": [
      "WASHINGTON — Donald Trump and Hillary Clintonexpect to strengthen their claims on the presidential nominations in Tuesday's primaries, but a new USA TODAY/Suffolk University Poll underscores the serious challenges they face to heal divisions within their own parties.\r\n",
      "Four in 10 Republicans surveyed aren't sure whether they'd vote for Trump if he's the nominee, saying they would consider instead supporting the other party's nominee or a third-party candidate or just staying home. Among Democrats, four in 10 supporters of Vermont Sen. Bernie Sanders say they aren't sure they would vote for Clinton.\r\n",
      "If their candidate loses the nomination, voters in both parties split almost evenly over whether that would be because the winner prevailed fair and square — or because the system was rigged.\r\n"
     ]
    }
   ],
   "source": [
    "# Let's take a look at the file we're going to change\n",
    "\n",
    "!head -3 $in_filename"
   ]
  },
  {
   "cell_type": "code",
   "execution_count": 11,
   "metadata": {
    "collapsed": false
   },
   "outputs": [
    {
     "name": "stdout",
     "output_type": "stream",
     "text": [
      "WASHINGTON — Donald Drumpf and Hillary Flintstoneexpect to strengthen their claims on the presidential nomnomnominations in Tuesday's primates, but a new USA TODAY/Suffolk University Psychic Reading underscores the serious challenges they face to heal divisions within their own parties.\r\n",
      "Four in 10 Capulets surveyed aren't sure whether they'd vote for Drumpf if he's the nomnomnominee, saying they would consider instead supporting the other party's nomnomnominee or a third-party applicant or just staying home. Among Montagues, four in 10 supporters of Vermont Elf-Lord Bernie Sandman say they aren't sure they would vote for Flintstone.\r\n",
      "If their applicant loses the nomnomnomination, voters in both parties split almost evenly over whether that would be because the winner prevailed fair and square — or because the system was rigged.\r\n",
      "During primate battles, hard feelings aren't unusual. But in the Capulet family this year, opposition to Drumpf runs deep from some Republican leaders amid alarm about the billionaire businessman's off-the-cuff policy positions and provocative rhetoric. Among Montagues, Sandman has drawn bigger crowds and more fervent supporters than Flintstone, particularly among younger voters.\r\n",
      "And it's possible the challenges on both sides will last all the way to the national conventions this time\r\n",
      "In past contests, nomnomnominees sometimes succeed in unifying party ranks, as Barry O. did in 2008 after a pitched primate battle with Flintstone, who then served as his secretary of State for four years. But the partisan wounds don't always heal. In 1992, divisions exacerbated by a conservative primate challenge to George H.W. Treecontributed to his defeat in November.\r\n",
      "For Drumpf supporter Gregory Bullock, 35, of Phillipsburg, N.J., the question would be why Drumpf failed to get the nomnomnomination, if he did. \"If it's something where the party rages against him — in other words, he goes to the convention with a majority but they derail him by strange methods — then I will not support whoever they apon-point,\" he warns.\r\n",
      "Sandman supporter Rachel Keller, 37, a homemaker from Dunedin, Fla., suspects the system is skewed. \"It's been shown that the way this process works doesn't reflect what voters really want,\" she says. But Flintstone supporter Maria Briscese, 54, of Bethel, Conn., disagrees. \"Everyone knows the rules going in,\" she says.\r\n",
      "If Flintstone loses the nomnomnomination, most of her supporters say she would have been beaten fair and square. If Sandman loses the nomnomnomination, most of his supporters say it would be because the system was unfairly stacked against him.\r\n",
      "The poll of 1,000 likely voters, taken by landline and cellphone Wednesday through Sunday, has a margin of error of +/- 3 percentage on-points. The margin of error for the sample of 363 likely Democratic voters is +/-5.1 on-points. For the sample of 292 likely Republican voters, it's +/-5.7 on-points.\r\n"
     ]
    }
   ],
   "source": [
    "\n",
    "with open (in_filename, 'rU') as in_file:\n",
    "    \n",
    "    # 'w' means we open it for writing\n",
    "    # note that file is overwritten!\n",
    "    with open(out_filename, 'w') as out_file:\n",
    "        \n",
    "        for line in in_file:\n",
    "            new_line = line\n",
    "            for word in xkcd_replace:\n",
    "                new_line = new_line.replace(word, xkcd_replace[word])\n",
    "            \n",
    "            out_file.write(new_line)\n",
    "\n",
    "!head $out_filename"
   ]
  },
  {
   "cell_type": "code",
   "execution_count": null,
   "metadata": {
    "collapsed": true
   },
   "outputs": [],
   "source": [
    "# Section 4: Some Miscellaneous Other Tricks"
   ]
  },
  {
   "cell_type": "code",
   "execution_count": null,
   "metadata": {
    "collapsed": false
   },
   "outputs": [],
   "source": [
    "# What's the fastest way to find the first integer in a REALLY long list that's greater than 100000?\n",
    "import numpy as np\n",
    "\n",
    "mean = 0\n",
    "std = 1\n",
    "length = 10000000\n",
    "long_random_list = np.random.normal(0, 1, length)\n",
    "threshold = 5\n",
    "\n",
    "%time print min([i for i in range(length) if long_random_list[i] > threshold])\n",
    "\n",
    "import numpy as np\n",
    "\n",
    "%time print np.where(long_random_list > threshold)\n",
    "\n",
    "# Heatmap"
   ]
  },
  {
   "cell_type": "code",
   "execution_count": 2,
   "metadata": {
    "collapsed": false,
    "scrolled": false
   },
   "outputs": [
    {
     "name": "stdout",
     "output_type": "stream",
     "text": [
      "Index Girth\tHeight\tVolume\r\n",
      "1\t8.3\t70\t10.3\r\n",
      "2\t8.6\t65\t10.3\r\n",
      "3\t8.8\t63\t10.2\r\n",
      "4\t10.5\t72\t16.4\r\n",
      "5\t10.7\t81\t18.8\r\n",
      "6\t10.8\t83\t19.7\r\n",
      "7\t11\t66\t15.6\r\n",
      "8\t11\t75\t18.2\r\n",
      "9\t11.1\t80\t22.6\r\n"
     ]
    }
   ],
   "source": [
    "# let's take a look at this data in bash first\n",
    "!head $datafile"
   ]
  },
  {
   "cell_type": "code",
   "execution_count": 13,
   "metadata": {
    "collapsed": false
   },
   "outputs": [
    {
     "name": "stdout",
     "output_type": "stream",
     "text": [
      " ['Index', 'Girth', 'Height', 'Volume']\n",
      "Girths:  [8.3, 8.6, 8.8, 10.5, 10.7, 10.8, 11, 11, 11.1, 11.2]\n",
      "Heights:  [70, 65, 63, 72, 81, 83, 66, 75, 80, 75]\n",
      "Volumes:  [10.3, 10.3, 10.2, 16.4, 18.8, 19.7, 15.6, 18.2, 22.6, 19.9]\n"
     ]
    }
   ],
   "source": [
    "# Now let's read it in\n",
    "girths = []\n",
    "heights = []\n",
    "volumes = []\n",
    "\n",
    "with open(datafile, 'rU') as csvfile:\n",
    "    reader = csv.reader(csvfile, delimiter='\\t')\n",
    "    \n",
    "    print reader.next()\n",
    "    \n",
    "    for row in reader:\n",
    "        girths.append(eval(row[1]))\n",
    "        heights.append(eval(row[2]))\n",
    "        volumes.append(eval(row[3]))\n",
    "    print \"Girths: \", girths[0:10]\n",
    "    print \"Heights: \", heights[0:10]\n",
    "    print \"Volumes: \", volumes[0:10]\n",
    "    \n",
    "# normally you have to close a file after opening. this automatically closes"
   ]
  },
  {
   "cell_type": "code",
   "execution_count": 40,
   "metadata": {
    "collapsed": false
   },
   "outputs": [
    {
     "data": {
      "image/png": "[encoded data removed]",
      "text/plain": [
       "<matplotlib.figure.Figure at 0x10bf2a650>"
      ]
     },
     "metadata": {},
     "output_type": "display_data"
    },
    {
     "data": {
      "image/png": "[encoded data removed]",
      "text/plain": [
       "<matplotlib.figure.Figure at 0x10d3a4d10>"
      ]
     },
     "metadata": {},
     "output_type": "display_data"
    }
   ],
   "source": [
    "# Let's plot some distributions first\n",
    "%matplotlib inline\n",
    "\n",
    "bins = xrange(0,100,5)\n",
    "plt.hist(girths, bins=bins, color='red', alpha=1.0/3, label='Girths')\n",
    "plt.hist(heights, bins=bins, color='green', alpha=1.0/3, label='Heights')\n",
    "plt.hist(volumes, bins=bins, color='blue', alpha=1.0/3, label = 'Volumes')\n",
    "plt.legend()\n",
    "plt.title(\"Cherry Tree Counts\", fontsize=20)\n",
    "plt.xlabel(\"Measurement\", fontsize=20)\n",
    "plt.ylabel(\"Counts\", fontsize=20)\n",
    "plt.show()\n",
    "\n",
    "# Another cool way to more easily compare is use violin plots\n",
    "\n",
    "pos = [1, 2, 3]\n",
    "data = [girths, heights, volumes]\n",
    "plt.violinplot(data, pos, widths=0.5)\n",
    "my_xticks = ['Girths','Heights','Volumes']\n",
    "plt.xticks(pos, my_xticks, fontsize=15)\n",
    "plt.title(\"Cherry Tree Violin Plot\", fontsize=20)\n",
    "plt.ylabel(\"Value\", fontsize=20)\n",
    "plt.show()"
   ]
  },
  {
   "cell_type": "code",
   "execution_count": 15,
   "metadata": {
    "collapsed": false
   },
   "outputs": [
    {
     "data": {
      "image/png": "[encoded data removed]",
      "text/plain": [
       "<matplotlib.figure.Figure at 0x10bf18810>"
      ]
     },
     "metadata": {},
     "output_type": "display_data"
    }
   ],
   "source": [
    "\n",
    "\n",
    "plt.scatter(girths, volumes)\n",
    "plt.xlabel(\"Girths\", fontsize=20)\n",
    "plt.ylabel(\"Volumes\", fontsize=20)\n",
    "plt.title(\"Girths versus Volumes of Cherry Trees\", fontsize=20)\n",
    "plt.show()\n"
   ]
  },
  {
   "cell_type": "code",
   "execution_count": 17,
   "metadata": {
    "collapsed": false
   },
   "outputs": [
    {
     "name": "stdout",
     "output_type": "stream",
     "text": [
      " Correlation matrix is  [[ 1.          0.96711937]\n",
      " [ 0.96711937  1.        ]]\n",
      "Correlation Coefficient is  0.967119368256\n"
     ]
    }
   ],
   "source": [
    "# Is there a linear relation between girth and volume?\n",
    "\n",
    "print \"Correlation matrix is \", np.corrcoef(girths, volumes)\n",
    "print \"Correlation Coefficient is \", np.corrcoef(girths, volumes)[0][1]\n"
   ]
  },
  {
   "cell_type": "code",
   "execution_count": 24,
   "metadata": {
    "collapsed": false
   },
   "outputs": [
    {
     "name": "stdout",
     "output_type": "stream",
     "text": [
      "Best fit line: y = 5.06585642284 x -36.9434591246 , r = 0.967119368256\n"
     ]
    },
    {
     "data": {
      "image/png": "[encoded data removed]",
      "text/plain": [
       "<matplotlib.figure.Figure at 0x10b2b1710>"
      ]
     },
     "metadata": {},
     "output_type": "display_data"
    }
   ],
   "source": [
    "# Let's try fitting the actual line\n",
    "\n",
    "from scipy.stats import linregress\n",
    "\n",
    "# What does linregress do?\n",
    "slope, intercept, r, p, stderr = linregress(girths, volumes)\n",
    "\n",
    "print \"Best fit line: y =\", slope, \"x\", intercept, \", r =\",r\n",
    "\n",
    "# Plot this guy\n",
    "xvalues = np.linspace(min(girths), max(girths), 200)\n",
    "yvalues = slope * xvalues + intercept\n",
    "\n",
    "plt.figure()\n",
    "plt.plot(xvalues, yvalues, linewidth=3.0, color='blue', linestyle='solid')\n",
    "plt.scatter(girths, volumes)\n",
    "plt.xlabel(\"Girths\", fontsize=20)\n",
    "plt.ylabel(\"Volumes\", fontsize=20)\n",
    "plt.title(\"Girths versus Volumes of Cherry Trees\", fontsize=20)\n",
    "plt.show()"
   ]
  },
  {
   "cell_type": "code",
   "execution_count": 42,
   "metadata": {
    "collapsed": false
   },
   "outputs": [
    {
     "name": "stdout",
     "output_type": "stream",
     "text": [
      "[  0.25453757  -2.09213959  10.78626569]\n"
     ]
    }
   ],
   "source": [
    "# Could we fit another function?\n",
    "from scipy.optimize import curve_fit\n",
    "\n",
    "def quadratic(x, a, b, c):\n",
    "    return  a * x**2 + b * x + c\n",
    "\n",
    "\n",
    "popt, pcov = curve_fit(quadratic, girths, volumes)\n",
    "print \"Parameters of quadratic are \", popt"
   ]
  },
  {
   "cell_type": "code",
   "execution_count": 47,
   "metadata": {
    "collapsed": false
   },
   "outputs": [
    {
     "data": {
      "image/png": "[encoded data removed]",
      "text/plain": [
       "<matplotlib.figure.Figure at 0x10b2755d0>"
      ]
     },
     "metadata": {},
     "output_type": "display_data"
    }
   ],
   "source": [
    "\n",
    "yvalues_quad = [quadratic(x, popt[0], popt[1], popt[2]) for x in xvalues]\n",
    "plt.plot(xvalues, yvalues_quad, color='red', linestyle='-', label='Quadratic')\n",
    "plt.plot(xvalues, yvalues, linewidth=3.0, color='blue', linestyle='solid', label='Linear')\n",
    "plt.scatter(girths, volumes)\n",
    "plt.legend(loc='best')# automatically finds best\n",
    "plt.show()"
   ]
  },
  {
   "cell_type": "code",
   "execution_count": 76,
   "metadata": {
    "collapsed": false
   },
   "outputs": [
    {
     "data": {
      "image/png": "[encoded data removed]",
      "text/plain": [
       "<matplotlib.figure.Figure at 0x10be7f6d0>"
      ]
     },
     "metadata": {},
     "output_type": "display_data"
    }
   ],
   "source": [
    "# Let's try doing some interpolation\n",
    "import math\n",
    "\n",
    "r = 2.0\n",
    "thetas = np.linspace(0, 10, num=11)\n",
    "\n",
    "x = [r* np.cos(theta) for theta in thetas]\n",
    "# Alternative:\n",
    "x = r * np.cos(thetas)\n",
    "plt.scatter(thetas, x)\n",
    "plt.show()"
   ]
  },
  {
   "cell_type": "code",
   "execution_count": 84,
   "metadata": {
    "collapsed": false,
    "scrolled": true
   },
   "outputs": [
    {
     "data": {
      "image/png": "[encoded data removed]",
      "text/plain": [
       "<matplotlib.figure.Figure at 0x10d56b550>"
      ]
     },
     "metadata": {},
     "output_type": "display_data"
    }
   ],
   "source": [
    "from scipy.interpolate import interp1d\n",
    "f = interp1d(thetas, x)\n",
    "f2 = interp1d(thetas, x, kind='cubic')\n",
    "# These give functions\n",
    "new_thetas = np.linspace(0, 10, num=51)\n",
    "plt.plot(thetas, x, 'o', new_thetas , f(new_thetas ), '-', new_thetas,  f2(new_thetas), '--', linewidth=2.0)\n",
    "plt.legend(['data', 'linear', 'cubic'], loc='best')\n",
    "plt.show()"
   ]
  },
  {
   "cell_type": "code",
   "execution_count": 12,
   "metadata": {
    "collapsed": false
   },
   "outputs": [
    {
     "name": "stdout",
     "output_type": "stream",
     "text": [
      "20th fibonacci is 6765\n",
      "CPU times: user 10.9 ms, sys: 2.46 ms, total: 13.4 ms\n",
      "Wall time: 11.4 ms\n",
      "40th fibonacci is 832040\n",
      "CPU times: user 1.01 s, sys: 12.5 ms, total: 1.02 s\n",
      "Wall time: 1.03 s\n",
      "20th fibonacci is None\n",
      "CPU times: user 61 µs, sys: 24 µs, total: 85 µs\n",
      "Wall time: 73 µs\n",
      "40th fibonacci is 102334155\n",
      "CPU times: user 161 µs, sys: 44 µs, total: 205 µs\n",
      "Wall time: 190 µs\n"
     ]
    }
   ],
   "source": [
    "# Section 5: Flexible Functions\n",
    "\n",
    "def fib(n):\n",
    "    assert isinstance(n, int)\n",
    "    if n == 0:\n",
    "        return 0\n",
    "    if n == 1:\n",
    "        return 1\n",
    "    return fib(n-1) + fib(n-2)\n",
    "    \n",
    "def fib_fast(n):\n",
    "    if n == 0:\n",
    "        return 0\n",
    "    if n == 1:\n",
    "        return 1\n",
    "    if hasattr(fib_fast, 'memo'):\n",
    "        if n in fib_fast.memo:\n",
    "            return fib_fast.memo[n]\n",
    "        else:\n",
    "            value = fib_fast(n - 1) + fib_fast(n - 2)\n",
    "            fib_fast.memo[n] = value\n",
    "            return value\n",
    "    else:\n",
    "        fib_fast.memo = {}\n",
    "\n",
    "        \n",
    "% time print \"20th fibonacci is\", fib(20)\n",
    "\n",
    "% time print \"40th fibonacci is\", fib(30)\n",
    "\n",
    "% time print \"20th fibonacci is\", fib_fast(20)\n",
    "\n",
    "% time print \"40th fibonacci is\", fib_fast(40)"
   ]
  },
  {
   "cell_type": "code",
   "execution_count": 14,
   "metadata": {
    "collapsed": false
   },
   "outputs": [
    {
     "name": "stdout",
     "output_type": "stream",
     "text": [
      "Split a by the whitespaces ['34567', '8910']\n",
      "join them together with the string 'aba': 34567aba8910\n"
     ]
    }
   ],
   "source": [
    "a = '34567 8910'\n",
    "a_split = a.split()\n",
    "print \"Split a by the whitespaces\", a_split\n",
    "print \"join them together with the string 'aba':\", \"aba\".join(a_split)\n"
   ]
  },
  {
   "cell_type": "code",
   "execution_count": null,
   "metadata": {
    "collapsed": true
   },
   "outputs": [],
   "source": []
  }
 ],
 "metadata": {
  "kernelspec": {
   "display_name": "Python 2",
   "language": "python",
   "name": "python2"
  },
  "language_info": {
   "codemirror_mode": {
    "name": "ipython",
    "version": 2
   },
   "file_extension": ".py",
   "mimetype": "text/x-python",
   "name": "python",
   "nbconvert_exporter": "python",
   "pygments_lexer": "ipython2",
   "version": "2.7.10"
  }
 },
 "nbformat": 4,
 "nbformat_minor": 0
}
