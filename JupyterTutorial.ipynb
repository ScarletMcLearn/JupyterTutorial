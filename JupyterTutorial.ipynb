{
 "cells": [
  {
   "cell_type": "markdown",
   "metadata": {},
   "source": [
    "Let's get started with Jupyter Notebook! \n",
    "\n",
    "Jupyter Notebook is a tool for interactive, scientific computing. It is a [computing shell](https://en.wikipedia.org/wiki/Shell_(computing), which means that it can run code in a programming language, in this case, Python.\n",
    "\n",
    "But it's no ordinary shell. Jupyter Notebook is great because:\n",
    "    \n",
    "   1. **It puts code, notes, and plots all in one place.** I used to have to write my code in Python, run it in the bash shell, save output to an Excel file, record the parameters I used in Word, save pictures across several folders, and put it all together in Powerpoint. In Jupyter, *it's all in one place!*\n",
    "   2. **It's interactive.** You run a code cell, see its output, and go back and run it again. You're playing all the time!\n",
    "   3. **It's easy to share.** People see exactly what code you ran to get your output.\n",
    "   4. **It offers a bunch of neat features**, like shell syntax, tab completion, magic commands, history, you name it!\n",
    "   5. **It supports many other languages**, like R, Julia, and Ruby.\n",
    "   \n",
    "   \n",
    "In this article, we're going to do a tour of Jupyter Notebook. We'll learn about some powerful Python features such as list comprehensions, plotting, and the numpy/scipy stack. You can follow along below. Feel free to **play with the code yourself!** Don't just copy the code that I have-- **try changing up the syntax and see what comes out!** That's how we learn the best.\n",
    "    \n",
    "\n",
    "### Are you ready? Let's go!\n",
    "\n",
    "\n"
   ]
  },
  {
   "cell_type": "markdown",
   "metadata": {},
   "source": [
    "If you'd like to follow along, you should first install python and Jupyter Notebook. Details at \n",
    "\n",
    "Then, download the directory available at https://github.com/lujonathanh/JupyterTutorial.\n",
    "\n",
    "Unzip this to the right directory. Then, from the command line, run `jupyter notebook`\n",
    "\n",
    "You should see an image like the below:\n",
    "\n",
    "![Startup](https://github.com/lujonathanh/JupyterTutorial/raw/master/Images/NotebookStartup.png)"
   ]
  },
  {
   "cell_type": "markdown",
   "metadata": {},
   "source": [
    "Click JupyterTutorial.ipynb to get to this page:\n",
    "    \n",
    "![First Page](https://github.com/lujonathanh/JupyterTutorial/raw/master/Images/NotebookFirstPage.png)"
   ]
  },
  {
   "cell_type": "markdown",
   "metadata": {},
   "source": [
    "__Run the User Interface Tutorial__ by going to \"Help\" under the toolbar, and clicking \"User Interface Tour.\"\n",
    "\n",
    "Once you're done with that, we can begin the tutorial."
   ]
  },
  {
   "cell_type": "markdown",
   "metadata": {},
   "source": [
    "Part 1: Basics of Markdown\n",
    "======================================"
   ]
  },
  {
   "cell_type": "markdown",
   "metadata": {},
   "source": [
    "Markdown is a typesetting language that makes text formatting easy.\n",
    "\n",
    "## This section on Markdown will first show the CODE that we type into the cell, and then show the OUTPUT that results."
   ]
  },
  {
   "cell_type": "markdown",
   "metadata": {},
   "source": [
    "*Code*\n",
    "```Markdown\n",
    "## You can make headers\n",
    "### and subheaders\n",
    "#### and subheaders\n",
    "\n",
    "## You can also make lists\n",
    "1. First ordered list item.\n",
    "2. Another item.\n",
    "  * Unordered sub-list\n",
    "\n",
    "   If you put 3 blank spaces, You can even have properly indented paragraphs!```\n",
    "   \n",
    "***\n",
    "*Output*\n",
    "\n",
    "## You can make headers\n",
    "### and subheaders\n",
    "#### and subheaders\n",
    "\n",
    "## You can also make lists\n",
    "1. First ordered list item.\n",
    "2. Another item.\n",
    "  * Unordered sub-list\n",
    "\n",
    "   If you put 3 blank spaces, You can even have properly indented paragraphs!\n",
    "---"
   ]
  },
  {
   "cell_type": "markdown",
   "metadata": {},
   "source": [
    "*Code*\n",
    "```Markdown\n",
    "## You can make equations, just like in LaTEX. For example:\n",
    "\\begin{equation}\n",
    "a^2 + b^2 = c^2\n",
    "\\end{equation}```\n",
    "\n",
    "---\n",
    "\n",
    "*Output*\n",
    "\n",
    "## You can make equations, just like in LaTEX. For example:\n",
    "\\begin{equation}\n",
    "a^2 + b^2 = c^2\n",
    "\\end{equation}\n",
    "\n",
    "---"
   ]
  },
  {
   "cell_type": "markdown",
   "metadata": {},
   "source": [
    "*Code*\n",
    "```Markdown\n",
    "## You can include blockquotes\n",
    "Albert Einstein once said,\n",
    "\n",
    ">It is not enough that you should understand about applied science in order that your work may increase man's blessings. Concern for man himself and his fate must always form the chief interest of all technical endeavours... in order that the creations of our minds shall be a blessing and not a curse to mankind. Never forget this in the midst of your diagrams and equations. ```\n",
    "\n",
    "---\n",
    "\n",
    "*Output*\n",
    "\n",
    "## You can include blockquotes\n",
    "Albert Einstein once said,\n",
    "\n",
    ">It is not enough that you should understand about applied science in order that your work may increase man's blessings. Concern for man himself and his fate must always form the chief interest of all technical endeavours... in order that the creations of our minds shall be a blessing and not a curse to mankind. Never forget this in the midst of your diagrams and equations. \n",
    "\n",
    "---"
   ]
  },
  {
   "cell_type": "markdown",
   "metadata": {},
   "source": [
    "*Code*\n",
    "```Markdown\n",
    "## You can even link images and videos. Here's a picture from Innovation's recent [space article.](http://princetoninnovation.org/magazine/2016/03/31/mysteries-center-galaxy/)\n",
    "\n",
    "![Spaaaace](http://princetoninnovation.org/magazine/wp-content/uploads/2015/12/5162405776_c55a983222_z.jpg)\n",
    "\n",
    "## And here's a Youtube Video of JFK's Moon Speech in 1962.\n",
    "\n",
    "[![JFK](http://img.youtube.com/vi/TuW4oGKzVKc/0.jpg)](https://www.youtube.com/watch?v=TuW4oGKzVKc)\n",
    "```\n",
    "---\n",
    "*Output*\n",
    "\n",
    "## You can even link images and videos. Here's a picture from Innovation's recent [space article.](http://princetoninnovation.org/magazine/2016/03/31/mysteries-center-galaxy/)\n",
    "\n",
    "![Spaaaace](http://princetoninnovation.org/magazine/wp-content/uploads/2015/12/5162405776_c55a983222_z.jpg)\n",
    "\n",
    "## And here's a Youtube Video of JFK's Moon Speech in 1962.\n",
    "\n",
    "[![JFK](http://img.youtube.com/vi/TuW4oGKzVKc/0.jpg)](https://www.youtube.com/watch?v=TuW4oGKzVKc)"
   ]
  },
  {
   "cell_type": "markdown",
   "metadata": {},
   "source": [
    "For more on Markdown, check out this [cheatsheet!](https://github.com/adam-p/markdown-here/wiki/Markdown-Cheatsheet)\n",
    "\n",
    "The great thing about Markdown is that it makes it easy to __log your work__!\n",
    "\n",
    "It's also __easier to share:__ instead of having to comment every last variable, you can have summaries scattered throughout the text."
   ]
  },
  {
   "cell_type": "markdown",
   "metadata": {},
   "source": [
    "# Part 2: Basics of Code Cells\n",
    "\n",
    "Below is a code cell. To run it, press *Shift+Enter*.\n",
    "\n",
    "The output goes below, and it stays there until you run it again.\n",
    "\n",
    "Try changing what it prints and running it again!"
   ]
  },
  {
   "cell_type": "code",
   "execution_count": 2,
   "metadata": {
    "collapsed": false
   },
   "outputs": [
    {
     "name": "stdout",
     "output_type": "stream",
     "text": [
      "Hello world!\n"
     ]
    }
   ],
   "source": [
    "print \"Hello world!\""
   ]
  },
  {
   "cell_type": "markdown",
   "metadata": {},
   "source": [
    "Code cells aren't just python cells. You can issue terminal commands by prefacing the command with an exclamation point (!)"
   ]
  },
  {
   "cell_type": "code",
   "execution_count": 2,
   "metadata": {
    "collapsed": false
   },
   "outputs": [
    {
     "name": "stdout",
     "output_type": "stream",
     "text": [
      "Show the files in the current directory:\n",
      "\u001b[34mImages\u001b[m\u001b[m                          USA_Today_4_25_16.txt\n",
      "JupyterTutorial.ipynb           USA_Today_4_25_16_xkcdified.txt\n",
      "README.md                       trees.txt\n",
      "State_Of_Union_2015.txt         xkcd_substitutions.txt\n",
      "\n",
      "What directory are we in?\n",
      "/Users/jlu96/Dropbox/Writing/Innovation/JupyterTutorial\n",
      "\n",
      "We can make a new directory. Now it shows up when we run ls:\n",
      "\u001b[34mImages\u001b[m\u001b[m                          USA_Today_4_25_16_xkcdified.txt\n",
      "JupyterTutorial.ipynb           \u001b[34mnewdir\u001b[m\u001b[m\n",
      "README.md                       trees.txt\n",
      "State_Of_Union_2015.txt         xkcd_substitutions.txt\n",
      "USA_Today_4_25_16.txt\n",
      "\n",
      "Alright, let's remove it.\n",
      "\u001b[34mImages\u001b[m\u001b[m                          USA_Today_4_25_16.txt\n",
      "JupyterTutorial.ipynb           USA_Today_4_25_16_xkcdified.txt\n",
      "README.md                       trees.txt\n",
      "State_Of_Union_2015.txt         xkcd_substitutions.txt\n",
      "\n",
      "We can also view files. The first lines of trees.txt are:\n",
      "Index\tGirth\tHeight\tVolume\n",
      "1\t8.3\t70\t10.3\n",
      "2\t8.6\t65\t10.3\n",
      "3\t8.8\t63\t10.2\n",
      "4\t10.5\t72\t16.4\n",
      "5\t10.7\t81\t18.8\n",
      "6\t10.8\t83\t19.7\n",
      "7\t11\t66\t15.6\n",
      "8\t11\t75\t18.2\n",
      "9\t11.1\t80\t22.6\n"
     ]
    }
   ],
   "source": [
    "print \"Show the files in the current directory:\"\n",
    "!ls\n",
    "print \"\\nWhat directory are we in?\"\n",
    "!pwd\n",
    "print \"\\nWe can make a new directory. Now it shows up when we run ls:\"\n",
    "!mkdir newdir\n",
    "!ls\n",
    "print \"\\nAlright, let's remove it.\"\n",
    "!rm -r newdir\n",
    "!ls\n",
    "print \"\\nWe can also view files. The first lines of trees.txt are:\"\n",
    "!head trees.txt"
   ]
  },
  {
   "cell_type": "markdown",
   "metadata": {},
   "source": [
    "Another great thing about jupyter is that when you run a cell, __the variables\n",
    "stay the same between cells!__\n",
    "\n",
    "In the below cell, you set the value of a and b.\n",
    "\n",
    "In the cell after that, you can perform the same calculations over that cell.\n",
    "\n",
    "This makes it easy to split up work. It avoids excessively long cells."
   ]
  },
  {
   "cell_type": "code",
   "execution_count": 15,
   "metadata": {
    "collapsed": false
   },
   "outputs": [
    {
     "name": "stdout",
     "output_type": "stream",
     "text": [
      "a is 3 and b is I lost\n"
     ]
    }
   ],
   "source": [
    "a = 3\n",
    "b = \"I lost\"\n",
    "print \"a is\", a, \"and b is\", b"
   ]
  },
  {
   "cell_type": "code",
   "execution_count": 14,
   "metadata": {
    "collapsed": false
   },
   "outputs": [
    {
     "name": "stdout",
     "output_type": "stream",
     "text": [
      "Now a is 6 and b is I lost the game\n"
     ]
    }
   ],
   "source": [
    "\n",
    "a *= 2\n",
    "b += \" the game\"\n",
    "print \"Now a is\", a, \"and b is\", b"
   ]
  },
  {
   "cell_type": "markdown",
   "metadata": {},
   "source": [
    "Jupyter has builtin __magic commands.__\n",
    "\n",
    "Say I have some to time my code. \n",
    "\n",
    "Easy: `add %time` to do so."
   ]
  },
  {
   "cell_type": "code",
   "execution_count": 10,
   "metadata": {
    "collapsed": false
   },
   "outputs": [
    {
     "name": "stdout",
     "output_type": "stream",
     "text": [
      "time for short code: \n",
      "CPU times: user 5 µs, sys: 14 µs, total: 19 µs\n",
      "Wall time: 29.1 µs\n",
      "time for long code: \n",
      "CPU times: user 698 ms, sys: 154 ms, total: 852 ms\n",
      "Wall time: 950 ms\n"
     ]
    }
   ],
   "source": [
    "print \"time for short code: \"\n",
    "%time x = 2 * 2 * 2\n",
    "\n",
    "def long_code():\n",
    "    for i in range(10000000):\n",
    "        x = 2**130\n",
    "\n",
    "print \"time for long code: \"\n",
    "%time long_code()\n"
   ]
  },
  {
   "cell_type": "markdown",
   "metadata": {},
   "source": [
    "If the cell ever takes too long to run, you can stop the kernel by clicking the \"Stop\" button in the toolbar.\n",
    "\n",
    "Or, you can restart. Note that this will erase all the variables."
   ]
  },
  {
   "cell_type": "markdown",
   "metadata": {},
   "source": [
    "`%timeit` will time whatever you evaluate multiple times and give you the best, and the average times."
   ]
  },
  {
   "cell_type": "code",
   "execution_count": 4,
   "metadata": {
    "collapsed": false
   },
   "outputs": [
    {
     "name": "stdout",
     "output_type": "stream",
     "text": [
      "timeit for several loops:\n",
      "1000 loops, best of 3: 1.01 ms per loop\n",
      "\n",
      "timeit for several long loops:\n",
      "10 loops, best of 3: 103 ms per loop\n"
     ]
    }
   ],
   "source": [
    "import numpy as np\n",
    "\n",
    "def several_loops():\n",
    "    for i in range(1000):\n",
    "        a = np.random.uniform(0, 1)\n",
    "        b = np.random.randint(1, 100000)\n",
    "        a * b\n",
    "\n",
    "print \"timeit for several loops:\"\n",
    "%timeit several_loops()\n",
    "\n",
    "def several_long_loops():\n",
    "    for i in range(100000):\n",
    "        a = np.random.uniform(0, 1)\n",
    "        b = np.random.randint(1, 100000)\n",
    "        a * b\n",
    "\n",
    "print \"\\ntimeit for several long loops:\"\n",
    "%timeit several_long_loops()"
   ]
  },
  {
   "cell_type": "code",
   "execution_count": null,
   "metadata": {
    "collapsed": true
   },
   "outputs": [],
   "source": []
  },
  {
   "cell_type": "code",
   "execution_count": 5,
   "metadata": {
    "collapsed": true
   },
   "outputs": [],
   "source": [
    "\n",
    "an_annoyingly_long_variable_name = set([])\n",
    "\n",
    "\n",
    "def slightly_shorter_function_name():\n",
    "    print \"hi\""
   ]
  },
  {
   "cell_type": "markdown",
   "metadata": {},
   "source": [
    "Type the first few letters and press `Tab`.\n",
    "\n",
    "![tab_completion_a_1](https://github.com/lujonathanh/JupyterTutorial/raw/master/Images/tab_completion_a_1.png)\n",
    "\n",
    "Then, press `Enter`.\n",
    "\n",
    "![tab_completion_a_2](https://github.com/lujonathanh/JupyterTutorial/raw/master/Images/tab_completion_a_2.png)\n",
    "\n",
    "If it's not the first that shows up, use the arrows to scroll down.\n",
    "\n",
    "![tab_completion_s_1](https://github.com/lujonathanh/JupyterTutorial/raw/master/Images/tab_completion_s_1_true.png)\n",
    "\n",
    "This works for __any type of object: variables, functions, modules__, you name it."
   ]
  },
  {
   "cell_type": "code",
   "execution_count": null,
   "metadata": {
    "collapsed": true
   },
   "outputs": [],
   "source": [
    "# No more typing!\n",
    "an_annoyingly_long_variable_name\n",
    "\n",
    "\n",
    "\n",
    "\n",
    "slightly_shorter_function_name\n",
    "\n",
    "\n",
    "\n"
   ]
  },
  {
   "cell_type": "markdown",
   "metadata": {},
   "source": [
    "You can also automatically look up the attributes and functions of your object by inserting a `.` and hitting `tab`.\n",
    "\n",
    "![tab_completion_f_1](https://github.com/lujonathanh/JupyterTutorial/raw/master/Images/tab_completion_f_1.png)\n",
    "\n",
    "This also works for imported modules. First import numpy:\n",
    "\n",
    "![tab_completion_n_1](https://github.com/lujonathanh/JupyterTutorial/raw/master/Images/tab_completion_n_1.png)\n",
    "\n",
    "Then, hit `.` and `tab`:\n",
    "\n",
    "![tab_completion_n_2](https://github.com/lujonathanh/JupyterTutorial/raw/master/Images/tab_completion_n_2.png)\n"
   ]
  },
  {
   "cell_type": "code",
   "execution_count": 7,
   "metadata": {
    "collapsed": false
   },
   "outputs": [
    {
     "data": {
      "text/plain": [
       "<function numpy.core.multiarray.arange>"
      ]
     },
     "execution_count": 7,
     "metadata": {},
     "output_type": "execute_result"
    }
   ],
   "source": [
    "an_annoyingly_long_variable_name.difference\n",
    "\n",
    "import numpy as np\n",
    "np.arange"
   ]
  },
  {
   "cell_type": "markdown",
   "metadata": {},
   "source": [
    "# Great. Now we've got Jupyter's basics under our belt-- time for some interactive computing."
   ]
  },
  {
   "cell_type": "markdown",
   "metadata": {
    "collapsed": true
   },
   "source": [
    "Part 2: Basics of Python\n",
    "========================"
   ]
  },
  {
   "cell_type": "markdown",
   "metadata": {},
   "source": [
    "### Lists\n",
    "Lists are a very flexible object in Python. Unlike arrays in other languages, where you have to declare the size of your array and fill it, Python allows you to __modify arrays easily__.\n",
    "1. `append` adds the argument (an element) to the end.\n",
    "2. `extend` concatenates the argument (a list) to the end of the list\n",
    "3. `remove` removes all instances of the given item.\n",
    "\n",
    "Also unlike most languages, Python also allows you to have __different types within an array__. This is very convenient!\n",
    "\n",
    "Play around with the code below."
   ]
  },
  {
   "cell_type": "code",
   "execution_count": 12,
   "metadata": {
    "collapsed": false,
    "scrolled": true
   },
   "outputs": [
    {
     "name": "stdout",
     "output_type": "stream",
     "text": [
      "a is  [3, 4]\n",
      "after append, a is  [3, 4, 'hello']\n",
      "after extend, a is [3, 4, 'hello', 'to', 'be', 'or', 'not', 'to', 'be']\n",
      "after append of list b, a is  [3, 4, 'hello', 'to', 'be', 'or', 'not', 'to', 'be', ['to', 'be', 'or', 'not', 'to', 'be']]\n",
      "after removing 4, a is  [3, 'hello', 'to', 'be', 'or', 'not', 'to', 'be', ['to', 'be', 'or', 'not', 'to', 'be']]\n"
     ]
    }
   ],
   "source": [
    "a = [3, 4]\n",
    "\n",
    "print \"a is \", a\n",
    "\n",
    "# you can put strings in list\n",
    "a.append('hello')\n",
    "\n",
    "print \"after append, a is \", a\n",
    "\n",
    "b = ['to', 'be', 'or', 'not', 'to', 'be']\n",
    "\n",
    "a.extend(b)\n",
    "\n",
    "print \"after extend, a is\", a\n",
    "\n",
    "# you can even put lists in lists!\n",
    "a.append(b)\n",
    "\n",
    "print \"after append of list b, a is \", a\n",
    "\n",
    "a.remove(4)\n",
    "print \"after removing 4, a is \", a"
   ]
  },
  {
   "cell_type": "markdown",
   "metadata": {},
   "source": [
    "Python also provides a variety of ways to __index, search, extract sublists, and reverse.__\n",
    "A sampling of these are below."
   ]
  },
  {
   "cell_type": "code",
   "execution_count": 13,
   "metadata": {
    "collapsed": false
   },
   "outputs": [
    {
     "name": "stdout",
     "output_type": "stream",
     "text": [
      "first elements of a are  to\n",
      "all elements are  [3, 'hello', 'to', 'be', 'or', 'not', 'to', 'be', ['to', 'be', 'or', 'not', 'to', 'be']]\n",
      "equivalently  [3, 'hello', 'to', 'be', 'or', 'not', 'to', 'be', ['to', 'be', 'or', 'not', 'to', 'be']]\n",
      "all elements but the first are ['hello', 'to', 'be', 'or', 'not', 'to', 'be', ['to', 'be', 'or', 'not', 'to', 'be']]\n",
      "all elements up to the fifth are  [3, 'hello', 'to', 'be', 'or']\n",
      "all elements but the last two are  [3, 'hello', 'to', 'be', 'or', 'not', 'to']\n",
      " all elements but the fifth are  [3, 'hello', 'to', 'be', 'or', 'to', 'be', ['to', 'be', 'or', 'not', 'to', 'be']]\n",
      "Is 3 in a? True\n",
      "how long is a? 9\n",
      "At what index is 'or' in a? 4\n",
      "how many times is 'to' in a? 2\n",
      "Reverse a:  [['to', 'be', 'or', 'not', 'to', 'be'], 'be', 'to', 'not', 'or', 'be', 'to', 'hello', 3]\n"
     ]
    }
   ],
   "source": [
    "print \"first elements of a are \", a[2]\n",
    "print \"all elements are \", a[0:]\n",
    "print \"equivalently \", a[:]\n",
    "print \"all elements but the first are\", a[1:]\n",
    "print \"all elements up to the fifth are \", a[:5] # the last is NOT included\n",
    "print \"all elements but the last two are \", a[:-2]\n",
    "\n",
    "print \" all elements but the fifth are \", a[:5] + a[6:]\n",
    "\n",
    "print \"Is 3 in a?\", 3 in a\n",
    "\n",
    "print \"how long is a?\", len(a)\n",
    "\n",
    "print \"At what index is 'or' in a?\", a.index(\"or\")\n",
    "# notice that it doesn't find or in the last list, even though it contains or\n",
    "# that's because \"or\" is different from the list containing \"or\"\n",
    "\n",
    "print \"how many times is 'to' in a?\", a.count(\"to\")\n",
    "\n",
    "a.reverse()\n",
    "print \"Reverse a: \", a"
   ]
  },
  {
   "cell_type": "markdown",
   "metadata": {},
   "source": [
    "Tuples are the same as lists, but they __can't be modified__. Once you make a tuple, it's done. The nice thing is, they can __easily be unwrapped__."
   ]
  },
  {
   "cell_type": "code",
   "execution_count": 15,
   "metadata": {
    "collapsed": false
   },
   "outputs": [
    {
     "name": "stdout",
     "output_type": "stream",
     "text": [
      "Length of tuple is  4\n",
      "sublist is  ('c',)\n",
      "Elements of b are  1.5 hello\n"
     ]
    }
   ],
   "source": [
    "t = ('a', 'b', 'c', 1000)\n",
    "b = (1.5, 'hello')\n",
    "\n",
    "print \"Length of tuple is \", len(t)\n",
    "print \"sublist is \", t[2:3]\n",
    "\n",
    "x, y = b\n",
    "print \"Elements of b are \", x, y"
   ]
  },
  {
   "cell_type": "markdown",
   "metadata": {},
   "source": [
    "Python has many other convenient list functions that work right out of the box.\n",
    "\n",
    "Take `range`. It automatically makes a __sorted, increasing integer array__.\n",
    "For loops become much easier to write."
   ]
  },
  {
   "cell_type": "code",
   "execution_count": 16,
   "metadata": {
    "collapsed": false
   },
   "outputs": [
    {
     "name": "stdout",
     "output_type": "stream",
     "text": [
      "x is a list from 0 to 5 [0, 1, 2, 3, 4, 5]\n",
      "y is a list from 0 to 20, skipping 4s [0, 4, 8, 12, 16, 20]\n",
      "for loop iterating over y's elements:\n",
      "0\n",
      "4\n",
      "8\n",
      "12\n",
      "16\n",
      "20\n"
     ]
    }
   ],
   "source": [
    "x = range(6)\n",
    "print \"x is a list from 0 to 5\", x\n",
    "\n",
    "y = range(0, 24, 4)\n",
    "print \"y is a list from 0 to 20, skipping 4s\", y\n",
    "\n",
    "print \"for loop iterating over y's elements:\"\n",
    "for i in y:\n",
    "    print i\n",
    "\n",
    "    "
   ]
  },
  {
   "cell_type": "markdown",
   "metadata": {},
   "source": [
    "__List comprehensions__ are one of THE most useful methods in python. \n",
    "\n",
    "You can __make a list in place__ by iterating over another list, instead of using a for loop to construct a list as in other languages. "
   ]
  },
  {
   "cell_type": "code",
   "execution_count": 17,
   "metadata": {
    "collapsed": false
   },
   "outputs": [
    {
     "name": "stdout",
     "output_type": "stream",
     "text": [
      "x times y is  [0, 4, 16, 36, 64, 100]\n"
     ]
    }
   ],
   "source": [
    "x_times_y = [x[i] * y[i] for i in range(len(x))]\n",
    "\n",
    "print \"x times y is \", x_times_y"
   ]
  },
  {
   "cell_type": "markdown",
   "metadata": {},
   "source": [
    "What if you wanted to iterate over one list using the indices of another?\n",
    "Normally you'd have to iterate through one list, retrieve the indices, and use another.\n",
    "\n",
    "Enter __the zip() function__. It pairs each of the elements in the lists together if they have the same index."
   ]
  },
  {
   "cell_type": "code",
   "execution_count": 21,
   "metadata": {
    "collapsed": false
   },
   "outputs": [
    {
     "name": "stdout",
     "output_type": "stream",
     "text": [
      "zipped x and y  [(0, 0), (1, 4), (2, 8), (3, 12), (4, 16), (5, 20)]\n",
      "What is the y-value of the index where x = 3?\n",
      "[12]\n"
     ]
    }
   ],
   "source": [
    "xy_zip = zip(x, y)\n",
    "print \"zipped x and y \", xy_zip\n",
    "print \"What is the y-value of the index where x = 3?\"\n",
    "print [xy_zip[i][1] for i in range(len(xy_zip)) if xy_zip[i][0] == 3]"
   ]
  },
  {
   "cell_type": "markdown",
   "metadata": {},
   "source": [
    "To get the originals back, __use the `zip` function with the `*` function__.\n",
    "\n",
    "the * unravels the xy_zip into just (0, 0), (1, 4), (2, 8), (3, 12), (4, 16), (5, 20)\n",
    "\n",
    "Then, the zip takes the first element of each element: 0, 1, 2, 3, 4, 5, and puts them into a list. It does it again with the second element."
   ]
  },
  {
   "cell_type": "code",
   "execution_count": 22,
   "metadata": {
    "collapsed": false
   },
   "outputs": [
    {
     "name": "stdout",
     "output_type": "stream",
     "text": [
      "Unzipped list is  [(0, 1, 2, 3, 4, 5), (0, 4, 8, 12, 16, 20)]\n"
     ]
    }
   ],
   "source": [
    "xy_unzip = zip(*xy_zip)\n",
    "print \"Unzipped list is \", xy_unzip "
   ]
  },
  {
   "cell_type": "markdown",
   "metadata": {},
   "source": [
    "You can also __sort lists__ very easily in Python! Each list has a `sort` function which sorts it in place.\n",
    "\n",
    "You can also use `sorted` to sort using more complex criteria, like reversing."
   ]
  },
  {
   "cell_type": "code",
   "execution_count": 24,
   "metadata": {
    "collapsed": false
   },
   "outputs": [
    {
     "name": "stdout",
     "output_type": "stream",
     "text": [
      "Our random array is  [5, 9, 4, 8, 8, 7, 6, 3, 7, 2]\n",
      "What are the max and min?\n",
      "9 2\n",
      "What's our array after sorting? [2, 3, 4, 5, 6, 7, 7, 8, 8, 9]\n",
      "What if we sort it in reverse?\n",
      "[9, 8, 8, 7, 7, 6, 5, 4, 3, 2]\n"
     ]
    }
   ],
   "source": [
    "# List and sorting\n",
    "import numpy as np\n",
    "\n",
    "rand_array = [np.random.randint(low = 1, high = 10) for i in range(10)]\n",
    "\n",
    "print \"Our random array is \", rand_array\n",
    "\n",
    "print \"What are the max and min?\"\n",
    "print max(rand_array), min(rand_array)\n",
    "\n",
    "rand_array.sort()\n",
    "print \"What's our array after sorting?\",rand_array\n",
    "\n",
    "print \"What if we sort it in reverse?\"\n",
    "print sorted(rand_array, reverse=True)"
   ]
  },
  {
   "cell_type": "markdown",
   "metadata": {},
   "source": [
    "You can sort many different objects! For example, you  can __sort tuples__. It will automatically first sort by\n",
    "the first index, then by the second."
   ]
  },
  {
   "cell_type": "code",
   "execution_count": null,
   "metadata": {
    "collapsed": true
   },
   "outputs": [],
   "source": [
    "tuples_array = [(np.random.randint(low = 1, high = 3), np.random.randint(low = 1, high = 4)) for i in range(5)]\n",
    "print \"Our tuples array is \", tuples_array\n",
    "tuples_array.sort()\n",
    "print \"Our tuples array after sorting is \", tuples_array"
   ]
  },
  {
   "cell_type": "markdown",
   "metadata": {},
   "source": [
    "You can also define very creative ways to sort!\n",
    "\n",
    "First, you can pass `key` as an argument to the `sorted` function. This chooses the key used to sort.\n",
    "\n",
    "You can also define a `lambda`. Lambdas are essentially single-line functions. They have the form:\n",
    "\n",
    "```python\n",
    "lambda arg1, arg2: return_value\n",
    "```\n",
    "For example, a lambda can return a tuple of whether an arg is even, and what the value is:\n",
    "\n",
    "```python\n",
    "lambda arg: (arg %2 == 0, arg)\n",
    "```"
   ]
  },
  {
   "cell_type": "code",
   "execution_count": 29,
   "metadata": {
    "collapsed": false
   },
   "outputs": [
    {
     "name": "stdout",
     "output_type": "stream",
     "text": [
      "Let's sort by only the second entry.\n",
      "[(1, 1), (2, 1), (1, 3), (1, 3), (2, 3)]\n",
      "Let's sort by first whether the first entry is even, then by the value of the second entry\n",
      "[(2, 1), (2, 3), (1, 1), (1, 3), (1, 3)]\n"
     ]
    }
   ],
   "source": [
    "print \"Let's sort by only the second entry.\"\n",
    "\n",
    "print sorted(tuples_array, key = lambda entry: entry[1])\n",
    "\n",
    "print \"Let's sort by first whether the first entry is even, then by the value of the second entry\"\n",
    "print sorted(tuples_array, key = lambda entry: (entry[0] %2 != 0, entry[1]))"
   ]
  },
  {
   "cell_type": "markdown",
   "metadata": {},
   "source": [
    "Sets are unordered lists. They provide an easy way to check if elements are in the set or not, and to represent\n",
    "groups of unordered elements."
   ]
  },
  {
   "cell_type": "code",
   "execution_count": 33,
   "metadata": {
    "collapsed": false
   },
   "outputs": [
    {
     "name": "stdout",
     "output_type": "stream",
     "text": [
      "the list a was [3, 4, 5, 'b']\n",
      "the set a is  set(['b', 3, 4, 5])\n",
      "the set b is  set(['a', 'c', 'b'])\n",
      "a and b can be unioned set(['a', 'c', 3, 4, 5, 'b'])\n",
      "we can check for the difference between a and b set([3, 4, 5])\n",
      "the tuple a is  (3, 4, 5, 'b')\n"
     ]
    }
   ],
   "source": [
    "# sets and conversions between each\n",
    "a = [3,4,5, 'b']\n",
    "a_set = set(a)\n",
    "b_set = set(['a', 'b', 'c'])\n",
    "c = tuple(a)\n",
    "print \"the list a was\", a\n",
    "print \"the set a is \", a_set\n",
    "print \"the set b is \", b_set\n",
    "print \"a and b can be unioned\", a_set.union(b_set)\n",
    "print \"we can check for the difference between a and b\", a_set.difference(b_set)\n",
    "print \"the tuple a is \", c\n"
   ]
  },
  {
   "cell_type": "code",
   "execution_count": 14,
   "metadata": {
    "collapsed": false,
    "scrolled": true
   },
   "outputs": [
    {
     "name": "stdout",
     "output_type": "stream",
     "text": [
      "Split a by the whitespaces ['34567', '8910']\n",
      "join them together with the string 'aba': 34567aba8910\n"
     ]
    }
   ],
   "source": [
    "a = '34567 8910'\n",
    "a_split = a.split()\n",
    "print \"Split a by the whitespaces\", a_split\n",
    "print \"join them together with the string 'aba':\", \"aba\".join(a_split)\n"
   ]
  },
  {
   "cell_type": "markdown",
   "metadata": {},
   "source": [
    "Dictionaries are one of the most useful Python objects. They make it easy to store and access objects.\n",
    "Dictionaries map a key to an associated value."
   ]
  },
  {
   "cell_type": "code",
   "execution_count": 36,
   "metadata": {
    "collapsed": false
   },
   "outputs": [
    {
     "name": "stdout",
     "output_type": "stream",
     "text": [
      "{'orange': 'not green', 1: 'one', 'pear': 'pair', 'apple': 'a red fruit', -3: [1, 23, 4, 5]}\n",
      "an apple is  a red fruit\n",
      "After an update an apple is  [1, 2, 3, 4, 5]\n",
      "Does our dictionary contain a banana ?\n",
      "False\n",
      "I don't want an orange any more. Let's remove it. Is it still there?\n",
      "False\n"
     ]
    }
   ],
   "source": [
    "# Let's learn about dictionaries\n",
    "# These are a convenient way to easily access and look up anything, it can even be an object\n",
    "\n",
    "\n",
    "webster = {}\n",
    "\n",
    "webster['apple'] = 'a red fruit'\n",
    "webster['orange'] = 'not green'\n",
    "webster['pear'] = 'pair'\n",
    "\n",
    "webster[1] = 'one'\n",
    "webster[-3] = [1,23,4,5]\n",
    "\n",
    "print webster\n",
    "\n",
    "print \"an apple is \", webster['apple']\n",
    "\n",
    "webster['apple'] = [1,2, 3, 4, 5]\n",
    "\n",
    "print \"After an update an apple is \", webster['apple']\n",
    "\n",
    "print \"Does our dictionary contain a banana ?\"\n",
    "print \"banana\" in webster\n",
    "\n",
    "print \"I don't want an orange any more. Let's remove it. Is it still there?\"\n",
    "webster.pop(\"orange\")\n",
    "print \"orange\" in webster"
   ]
  },
  {
   "cell_type": "markdown",
   "metadata": {},
   "source": [
    "Dictionaries have methods that make it easy to iterate through the objects."
   ]
  },
  {
   "cell_type": "code",
   "execution_count": 37,
   "metadata": {
    "collapsed": false
   },
   "outputs": [
    {
     "name": "stdout",
     "output_type": "stream",
     "text": [
      "Webster's keys are  [1, 'pear', 'apple', -3]\n",
      "Webster's values are  ['one', 'pair', [1, 2, 3, 4, 5], [1, 23, 4, 5]]\n",
      "Webster's items are  [(1, 'one'), ('pear', 'pair'), ('apple', [1, 2, 3, 4, 5]), (-3, [1, 23, 4, 5])]\n",
      "value for key  1 is one\n",
      "value for key  pear is pair\n",
      "value for key  apple is [1, 2, 3, 4, 5]\n",
      "value for key  -3 is [1, 23, 4, 5]\n"
     ]
    }
   ],
   "source": [
    "print \"Webster's keys are \", webster.keys()\n",
    "\n",
    "print \"Webster's values are \", webster.values()\n",
    "\n",
    "print \"Webster's items are \", webster.items()\n",
    "\n",
    "for key in webster.keys():\n",
    "    print \"value for key \", key, \"is\", webster[key]"
   ]
  },
  {
   "cell_type": "markdown",
   "metadata": {},
   "source": [
    "Another great part of python is the idea of __object attributes__. In python, functions and classes are all objects, and can be assigned specific attributes as if they're instance variables. One application is that this allows functions __cache values__; that is, remember the values that they've been called.\n",
    "\n",
    "This can often speed up code quite a bit! Let's look at the timing of `fib` and `fib_fast`, below. `fib` recursively calculates the nth fibonacci number. `fib_fast` does the same, except it also stores previously computed values in a dictionary."
   ]
  },
  {
   "cell_type": "code",
   "execution_count": 15,
   "metadata": {
    "collapsed": false,
    "scrolled": true
   },
   "outputs": [
    {
     "name": "stdout",
     "output_type": "stream",
     "text": [
      "20th fibonacci is 6765\n",
      "CPU times: user 8.19 ms, sys: 4.76 ms, total: 13 ms\n",
      "Wall time: 9.31 ms\n",
      "40th fibonacci is 102334155\n",
      "CPU times: user 1min 2s, sys: 456 ms, total: 1min 3s\n",
      "Wall time: 1min 3s\n",
      "20th fibonacci is None\n",
      "CPU times: user 42 µs, sys: 0 ns, total: 42 µs\n",
      "Wall time: 46 µs\n",
      "40th fibonacci is 102334155\n",
      "CPU times: user 93 µs, sys: 0 ns, total: 93 µs\n",
      "Wall time: 95.8 µs\n"
     ]
    }
   ],
   "source": [
    "def fib(n):\n",
    "    if n == 0:\n",
    "        return 0\n",
    "    if n == 1:\n",
    "        return 1\n",
    "    return fib(n-1) + fib(n-2)\n",
    "    \n",
    "def fib_fast(n):\n",
    "    if n == 0:\n",
    "        return 0\n",
    "    if n == 1:\n",
    "        return 1\n",
    "    if hasattr(fib_fast, 'memo'):\n",
    "        if n in fib_fast.memo:\n",
    "            return fib_fast.memo[n]\n",
    "        else:\n",
    "            value = fib_fast(n - 1) + fib_fast(n - 2)\n",
    "            fib_fast.memo[n] = value\n",
    "            return value\n",
    "    else:\n",
    "        # initializes the memo\n",
    "        fib_fast.memo = {}\n",
    "\n",
    "        \n",
    "% time print \"20th fibonacci is\", fib(20)\n",
    "\n",
    "% time print \"40th fibonacci is\", fib(40)\n",
    "\n",
    "% time print \"20th fibonacci is\", fib_fast(20)\n",
    "\n",
    "% time print \"40th fibonacci is\", fib_fast(40)"
   ]
  },
  {
   "cell_type": "markdown",
   "metadata": {},
   "source": [
    "One can \"memoize\"for any generic function by defining a memoize function, as below:"
   ]
  },
  {
   "cell_type": "code",
   "execution_count": 16,
   "metadata": {
    "collapsed": false
   },
   "outputs": [
    {
     "name": "stdout",
     "output_type": "stream",
     "text": [
      "102334155\n",
      "CPU times: user 284 µs, sys: 132 µs, total: 416 µs\n",
      "Wall time: 329 µs\n"
     ]
    }
   ],
   "source": [
    "def memoize(f):\n",
    "    memo = {}\n",
    "    def helper(x):\n",
    "        if x not in memo:            \n",
    "            memo[x] = f(x)\n",
    "        return memo[x]\n",
    "    return helper\n",
    "\n",
    "#this syntax below is equivalent to saying fib = memoize(fib)\n",
    "@memoize\n",
    "def fib(n):\n",
    "    if n == 0:\n",
    "        return 0\n",
    "    elif n == 1:\n",
    "        return 1\n",
    "    else:\n",
    "        return fib(n-1) + fib(n-2)\n",
    "    \n",
    "%time print(fib(40))"
   ]
  },
  {
   "cell_type": "markdown",
   "metadata": {},
   "source": [
    "# Part 3: Reading and writing files: featuring xkcd"
   ]
  },
  {
   "cell_type": "markdown",
   "metadata": {},
   "source": [
    "In this section we're going to [\"xkcdify\"](https://xkcd.com/1625/) [a political article](http://www.usatoday.com/story/news/politics/elections/2016/04/25/suffolk-poll-trump-clinton-party-divides-president-republican-democrat/83487862/). We'll go through the article and replace the words with their xkcd substitutions.\n",
    "\n",
    "First, let's declare the names of the files. They're in our directory."
   ]
  },
  {
   "cell_type": "code",
   "execution_count": 44,
   "metadata": {
    "collapsed": true
   },
   "outputs": [],
   "source": [
    "# find and replace tool\n",
    "\n",
    "in_filename = 'USA_Today_4_25_16.txt'\n",
    "out_filename = 'USA_Today_4_25_16_xkcdified.txt'\n",
    "xkcd_filename = 'xkcd_substitutions.txt'"
   ]
  },
  {
   "cell_type": "markdown",
   "metadata": {},
   "source": [
    "Let's take a look at our substituions file."
   ]
  },
  {
   "cell_type": "code",
   "execution_count": 45,
   "metadata": {
    "collapsed": false
   },
   "outputs": [
    {
     "name": "stdout",
     "output_type": "stream",
     "text": [
      "WORD\tSUBSTITUTE\r\n",
      "debate\tdance-off\r\n",
      "self-driving\tuncontrollably swerving\r\n",
      "poll\tpsychic reading\r\n",
      "candidate\tairbender\r\n",
      "drone\tdog\r\n",
      "vows to\tprobably won't\r\n",
      "at large\tvery large\r\n",
      "successfully\tsuddenly\r\n",
      "expands\tphysically expands\r\n"
     ]
    }
   ],
   "source": [
    "!head $xkcd_filename"
   ]
  },
  {
   "cell_type": "markdown",
   "metadata": {},
   "source": [
    "Looks like there are two columns of words and their substitutes, seperated by a tab.\n",
    "\n",
    "Normally to load this, we'd read the file in using python's `file` function. This would reaad each line in as a string. We'd have to parse this into a list by removing the tabs, and then use list indexing to extract the words. This is possible, but there's a better way.\n",
    "\n",
    "Let's use the __`csv` module__.\n",
    "One of the method is the __`DictReader`__ which reads the first line and treats those columns as dictionary keys. Then, as we read every line, we simply access each value using the key!\n",
    "\n",
    "For example, if `row` is the first (non-header) row, then, `row['WORD'] = Debate` and `row['SUBSTITUTE'] = Dance-Off`.\n",
    "\n",
    "We don't have to do any indexing!"
   ]
  },
  {
   "cell_type": "code",
   "execution_count": 46,
   "metadata": {
    "collapsed": false
   },
   "outputs": [
    {
     "name": "stdout",
     "output_type": "stream",
     "text": [
      "xkcd_replace of candidate is  airbender\n"
     ]
    }
   ],
   "source": [
    "import csv\n",
    "\n",
    "xkcd_replace = {}\n",
    "\n",
    "# first let's read in the dictionary\n",
    "\n",
    "with open(xkcd_filename, 'rU') as xkcdfile:\n",
    "    reader = csv.DictReader(xkcdfile, delimiter = '\\t')\n",
    "    for row in reader:\n",
    "        word = row['WORD']\n",
    "        sub = row['SUBSTITUTE']\n",
    "        \n",
    "        xkcd_replace[word] = sub\n",
    "\n",
    "print \"xkcd_replace of candidate is \", xkcd_replace['candidate']"
   ]
  },
  {
   "cell_type": "markdown",
   "metadata": {},
   "source": [
    "Great. Now let's look at the first 3 lines of the political article we're going to change."
   ]
  },
  {
   "cell_type": "code",
   "execution_count": 47,
   "metadata": {
    "collapsed": false
   },
   "outputs": [
    {
     "name": "stdout",
     "output_type": "stream",
     "text": [
      "WASHINGTON — Donald Trump and Hillary Clintonexpect to strengthen their claims on the presidential nominations in Tuesday's primaries, but a new USA TODAY/Suffolk University Poll underscores the serious challenges they face to heal divisions within their own parties.\r\n",
      "Four in 10 Republicans surveyed aren't sure whether they'd vote for Trump if he's the nominee, saying they would consider instead supporting the other party's nominee or a third-party candidate or just staying home. Among Democrats, four in 10 supporters of Vermont Sen. Bernie Sanders say they aren't sure they would vote for Clinton.\r\n",
      "If their candidate loses the nomination, voters in both parties split almost evenly over whether that would be because the winner prevailed fair and square — or because the system was rigged.\r\n"
     ]
    }
   ],
   "source": [
    "!head -3 $in_filename"
   ]
  },
  {
   "cell_type": "markdown",
   "metadata": {},
   "source": [
    "Let's open the files. Opening with 'rU' means we want to read the file. (the U means we accept universal, i.e., all, possible newlines).\n",
    "\n",
    "Opening with 'w' means we want to write to the file. This __automatically__ creates the file if it doesn't exist. If it does exist, it __clears the whole file__ to be rewritten. Use with caution!\n",
    "\n",
    "We iterate through the lines in the file, which are strings. We use the string `replace` method to replace all instances of each xkcd_replace word."
   ]
  },
  {
   "cell_type": "code",
   "execution_count": 48,
   "metadata": {
    "collapsed": false
   },
   "outputs": [],
   "source": [
    "\n",
    "with open (in_filename, 'rU') as in_file:\n",
    "    \n",
    "    # 'w' means we open it for writing\n",
    "    # note that file is overwritten!\n",
    "    with open(out_filename, 'w') as out_file:\n",
    "        \n",
    "        for line in in_file:\n",
    "            new_line = line\n",
    "            for word in xkcd_replace:\n",
    "                new_line = new_line.replace(word, xkcd_replace[word])\n",
    "            \n",
    "            out_file.write(new_line)"
   ]
  },
  {
   "cell_type": "markdown",
   "metadata": {},
   "source": [
    "Now let's check out our final product!"
   ]
  },
  {
   "cell_type": "code",
   "execution_count": 49,
   "metadata": {
    "collapsed": false
   },
   "outputs": [
    {
     "name": "stdout",
     "output_type": "stream",
     "text": [
      "WASHINGTON — Donald Drumpf and Hillary Flintstoneexpect to strengthen their claims on the presidential nomnomnominations in Tuesday's primates, but a new USA TODAY/Suffolk University Poll underscores the serious challenges they face to heal divisions within their own parties.\r\n",
      "Four in 10 Capulets surveyed aren't sure whether they'd vote for Drumpf if he's the nomnomnominee, saying they would consider instead supporting the other party's nomnomnominee or a third-party airbender or just staying home. Among Montagues, four in 10 supporters of Vermont Elf-Lord Bernie Sandman say they aren't sure they would vote for Flintstone.\r\n",
      "If their airbender loses the nomnomnomination, vaulters in both parties split almost evenly over whether that would be because the winner prevailed fair and square — or because the system was rigged.\r\n",
      "During primate battles, hard feelings aren't unusual. But in the Capulet family this year, opposition to Drumpf runs deep from some Capulet leaders amid alarm about the billionaire businessman's off-the-cuff policy positions and provocative rhetoric. Among Montagues, Sandman has drawn bigger crowds and more fervent supporters than Flintstone, particularly among younger vaulters.\r\n",
      "And it's possible the challenges on both sides will last all the way to the national conventions this time\r\n",
      "In past contests, nomnomnominees sometimes succeed in unifying party ranks, as Barry O. did in 2008 after a pitched primate battle with Flintstone, who then served as his secretary of State for four years. But the partisan wounds don't always heal. In 1992, divisions exacerbated by a conservative primate challenge to George H.W. Treecontributed to his defeat in November.\r\n",
      "For Drumpf supporter Gregory Bullock, 35, of Phillipsburg, N.J., the question would be why Drumpf failed to get the nomnomnomination, if he did. \"If it's something where the party rages against him — in other words, he goes to the convention with a majority but they derail him by strange methods — then I will not support whoever they apon-point,\" he warns.\r\n",
      "Sandman supporter Rachel Keller, 37, a homemaker from Dunedin, Fla., suspects the system is skewed. \"It's been shown that the way this process works doesn't reflect what vaulters really want,\" she says. But Flintstone supporter Maria Briscese, 54, of Bethel, Conn., disagrees. \"Everyone knows the rules going in,\" she says.\r\n",
      "If Flintstone loses the nomnomnomination, most of her supporters say she would have been beaten fair and square. If Sandman loses the nomnomnomination, most of his supporters say it would be because the system was unfairly stacked against him.\r\n",
      "The psychic reading of 1,000 likely vaulters, taken by landline and cellphone Wednesday through Sunday, has a margin of error of +/- 3 percentage on-points. The margin of error for the sample of 363 likely Montagueic vaulters is +/-5.1 on-points. For the sample of 292 likely Capulet vaulters, it's +/-5.7 on-points.\r\n"
     ]
    }
   ],
   "source": [
    "!head $out_filename"
   ]
  },
  {
   "cell_type": "markdown",
   "metadata": {},
   "source": [
    "Part 3: Basic Data Analysis\n",
    "================================================================\n",
    "In this section we'll learn how to perform basic data analysis techniques like __plotting, regression__, and __interpolation.__\n",
    "\n",
    "First, let's import the basic libraries and define our datafile.\n",
    "`numpy` is used for mathematics in python. It represents list as `nd.arrays`, and it's optimized to be much faster than the Python list.\n",
    "For example, let's look at the time it takes to create, add, and multiply lists in python versus numpy."
   ]
  },
  {
   "cell_type": "code",
   "execution_count": 56,
   "metadata": {
    "collapsed": false
   },
   "outputs": [
    {
     "name": "stdout",
     "output_type": "stream",
     "text": [
      "Time to create long random list using list comprehensions\n",
      "CPU times: user 4.38 s, sys: 949 ms, total: 5.33 s\n",
      "Wall time: 5.63 s\n",
      "\n",
      "Time to create long random list using numpy function\n",
      "CPU times: user 456 ms, sys: 24.1 ms, total: 480 ms\n",
      "Wall time: 480 ms\n",
      "\n",
      "Time to add one number to every element of a long random list, list comprehensions \n",
      "CPU times: user 1.37 s, sys: 436 ms, total: 1.81 s\n",
      "Wall time: 1.86 s\n",
      "\n",
      "Time to add one number to every element of a long random list, using numpy \n",
      "CPU times: user 25.4 ms, sys: 41.4 ms, total: 66.9 ms\n",
      "Wall time: 67 ms\n",
      "\n",
      "Time to multiply one number to every element of a long random list, list comprehensions \n",
      "CPU times: user 1.35 s, sys: 93.4 ms, total: 1.44 s\n",
      "Wall time: 1.45 s\n",
      "\n",
      "Time to multiply one number to every element of a long random list, using numpy \n",
      "CPU times: user 23.2 ms, sys: 35.5 ms, total: 58.7 ms\n",
      "Wall time: 61.3 ms\n"
     ]
    }
   ],
   "source": [
    "# What's the fastest way to find the first integer in a REALLY long list that's greater than 100000?\n",
    "import numpy as np\n",
    "\n",
    "length = 10000000\n",
    "print \"Time to create long random list using list comprehensions\"\n",
    "%time long_random_list = [np.random.normal(0, 1) for i in range(length)]\n",
    "\n",
    "print \"\\nTime to create long random list using numpy function\"\n",
    "%time np_long_random_list = np.random.normal(0, 1, length)\n",
    "\n",
    "print \"\\nTime to add one number to every element of a long random list, list comprehensions \"\n",
    "%time add_list = [i + 4 for i in long_random_list]\n",
    "\n",
    "print \"\\nTime to add one number to every element of a long random list, using numpy \"\n",
    "%time np_add_list = 4 + np_long_random_list\n",
    "\n",
    "\n",
    "print \"\\nTime to multiply one number to every element of a long random list, list comprehensions \"\n",
    "%time add_list = [i * 4 for i in long_random_list]\n",
    "\n",
    "print \"\\nTime to multiply one number to every element of a long random list, using numpy \"\n",
    "%time np_add_list = 4 * np_long_random_list\n"
   ]
  },
  {
   "cell_type": "markdown",
   "metadata": {},
   "source": [
    "Even adding two lists is fast!"
   ]
  },
  {
   "cell_type": "code",
   "execution_count": 57,
   "metadata": {
    "collapsed": false
   },
   "outputs": [
    {
     "name": "stdout",
     "output_type": "stream",
     "text": [
      "Time to add two lists using list comprehensions\n",
      "CPU times: user 2.62 s, sys: 1.05 s, total: 3.67 s\n",
      "Wall time: 3.98 s\n",
      "Time to add two lists using numpy\n",
      "CPU times: user 45.7 ms, sys: 73.1 ms, total: 119 ms\n",
      "Wall time: 119 ms\n",
      "Done\n"
     ]
    }
   ],
   "source": [
    "long_random_list2 =  [np.random.normal(0, 1) for i in range(length)]\n",
    "np_long_random_list2 = np.random.normal(0, 1, length)\n",
    "\n",
    "print \"Time to add two lists using list comprehensions\"\n",
    "%time a = [long_random_list[i] + long_random_list2[i] for i in range(length)]\n",
    "\n",
    "# To add all the elements of two arrays, just use addition! No list comprehension needed.\n",
    "\n",
    "print \"Time to add two lists using numpy\"\n",
    "%time np_long_random_list + np_long_random_list2\n",
    "\n",
    "print \"Done\""
   ]
  },
  {
   "cell_type": "markdown",
   "metadata": {},
   "source": [
    "The `where` function also makes it easy to find the indices in numpy that satisfy a certain criterion."
   ]
  },
  {
   "cell_type": "code",
   "execution_count": 60,
   "metadata": {
    "collapsed": false
   },
   "outputs": [
    {
     "name": "stdout",
     "output_type": "stream",
     "text": [
      "[2804390, 3601660, 8319613]\n",
      "CPU times: user 3.76 s, sys: 25.1 ms, total: 3.79 s\n",
      "Wall time: 3.8 s\n",
      "(array([2804390, 3601660, 8319613]),)\n",
      "CPU times: user 9.77 ms, sys: 1.8 ms, total: 11.6 ms\n",
      "Wall time: 11.4 ms\n"
     ]
    }
   ],
   "source": [
    "threshold = 5\n",
    "length = 10000000\n",
    "long_random_list = np.random.normal(0, 1, length)\n",
    "\n",
    "%time print [i for i in range(length) if long_random_list[i] > threshold]\n",
    "\n",
    "%time print np.where(long_random_list > threshold)"
   ]
  },
  {
   "cell_type": "markdown",
   "metadata": {},
   "source": [
    "Great! Now that we know numpy, let's finally get into some data analysis. Let's import our modules."
   ]
  },
  {
   "cell_type": "code",
   "execution_count": 1,
   "metadata": {
    "collapsed": true
   },
   "outputs": [],
   "source": [
    "import numpy as np\n",
    "import csv\n",
    "import matplotlib.pyplot as plt\n",
    "\n",
    "datafile = 'trees.txt'"
   ]
  },
  {
   "cell_type": "markdown",
   "metadata": {},
   "source": [
    "What does the data look like?"
   ]
  },
  {
   "cell_type": "code",
   "execution_count": 2,
   "metadata": {
    "collapsed": false,
    "scrolled": false
   },
   "outputs": [
    {
     "name": "stdout",
     "output_type": "stream",
     "text": [
      "Index\tGirth\tHeight\tVolume\r\n",
      "1\t8.3\t70\t10.3\r\n",
      "2\t8.6\t65\t10.3\r\n",
      "3\t8.8\t63\t10.2\r\n",
      "4\t10.5\t72\t16.4\r\n",
      "5\t10.7\t81\t18.8\r\n",
      "6\t10.8\t83\t19.7\r\n",
      "7\t11\t66\t15.6\r\n",
      "8\t11\t75\t18.2\r\n",
      "9\t11.1\t80\t22.6\r\n"
     ]
    }
   ],
   "source": [
    "!head $datafile"
   ]
  },
  {
   "cell_type": "markdown",
   "metadata": {},
   "source": [
    "The `csv.reader` function just reads every line into a list.\n",
    "The `eval` function takes a string and converts it to a corresponding time. For example\n",
    "```python\n",
    "eval(\"3.0\") = 3.0\n",
    "eval(\"-2\") = -2\n",
    "eval(\"[5,6,7,8]\") = [5,6,7,8]\n",
    "```"
   ]
  },
  {
   "cell_type": "code",
   "execution_count": 4,
   "metadata": {
    "collapsed": false
   },
   "outputs": [
    {
     "name": "stdout",
     "output_type": "stream",
     "text": [
      "Girths:  [8.3, 8.6, 8.8, 10.5, 10.7, 10.8, 11, 11, 11.1, 11.2]\n",
      "Heights:  [70, 65, 63, 72, 81, 83, 66, 75, 80, 75]\n",
      "Volumes:  [10.3, 10.3, 10.2, 16.4, 18.8, 19.7, 15.6, 18.2, 22.6, 19.9]\n"
     ]
    }
   ],
   "source": [
    "girths = []\n",
    "heights = []\n",
    "volumes = []\n",
    "\n",
    "with open(datafile, 'rU') as csvfile:\n",
    "    reader = csv.DictReader(csvfile, delimiter='\\t')\n",
    "    \n",
    "    # skip the first line\n",
    "    \n",
    "    for row in reader:\n",
    "        girths.append(eval(row['Girth']))\n",
    "        heights.append(eval(row['Height']))\n",
    "        volumes.append(eval(row['Volume']))\n",
    "    print \"Girths: \", girths[0:10]\n",
    "    print \"Heights: \", heights[0:10]\n",
    "    print \"Volumes: \", volumes[0:10]"
   ]
  },
  {
   "cell_type": "markdown",
   "metadata": {},
   "source": [
    "First let's plot some histograms. We'll call the magic command `%matploblib inline` so that the plots are printed within the notebook instead of opening a seperate window."
   ]
  },
  {
   "cell_type": "code",
   "execution_count": 5,
   "metadata": {
    "collapsed": false
   },
   "outputs": [
    {
     "data": {
      "image/png": "[encoded data removed]",
      "text/plain": [
       "<matplotlib.figure.Figure at 0x1056dce50>"
      ]
     },
     "metadata": {},
     "output_type": "display_data"
    }
   ],
   "source": [
    "%matplotlib inline\n",
    "\n",
    "bins = xrange(0,100,5)\n",
    "plt.hist(girths, bins=bins, color='red', alpha=1.0/3, label='Girths')\n",
    "plt.hist(heights, bins=bins, color='green', alpha=1.0/3, label='Heights')\n",
    "plt.hist(volumes, bins=bins, color='blue', alpha=1.0/3, label = 'Volumes')\n",
    "plt.legend()\n",
    "plt.title(\"Cherry Tree Counts\", fontsize=20)\n",
    "plt.xlabel(\"Measurement\", fontsize=20)\n",
    "plt.ylabel(\"Counts\", fontsize=20)\n",
    "plt.show()"
   ]
  },
  {
   "cell_type": "markdown",
   "metadata": {},
   "source": [
    "Another cool way to more easily compare the distributions is to use violin plots."
   ]
  },
  {
   "cell_type": "code",
   "execution_count": 6,
   "metadata": {
    "collapsed": false
   },
   "outputs": [
    {
     "data": {
      "image/png": "[encoded data removed]",
      "text/plain": [
       "<matplotlib.figure.Figure at 0x103ca1f90>"
      ]
     },
     "metadata": {},
     "output_type": "display_data"
    }
   ],
   "source": [
    "pos = [1, 2, 3]\n",
    "data = [girths, heights, volumes]\n",
    "plt.violinplot(data, pos, widths=0.5)\n",
    "my_xticks = ['Girths','Heights','Volumes']\n",
    "plt.xticks(pos, my_xticks, fontsize=15)\n",
    "plt.title(\"Cherry Tree Violin Plot\", fontsize=20)\n",
    "plt.ylabel(\"Value\", fontsize=20)\n",
    "plt.show()"
   ]
  },
  {
   "cell_type": "markdown",
   "metadata": {},
   "source": [
    "Is there a relationship between any of the two? Let's use a __scatter plot__."
   ]
  },
  {
   "cell_type": "code",
   "execution_count": 7,
   "metadata": {
    "collapsed": false
   },
   "outputs": [
    {
     "data": {
      "image/png": "[encoded data removed]",
      "text/plain": [
       "<matplotlib.figure.Figure at 0x105c66f90>"
      ]
     },
     "metadata": {},
     "output_type": "display_data"
    }
   ],
   "source": [
    "plt.scatter(girths, volumes)\n",
    "plt.xlabel(\"Girths\", fontsize=20)\n",
    "plt.ylabel(\"Volumes\", fontsize=20)\n",
    "plt.title(\"Girths versus Volumes of Cherry Trees\", fontsize=20)\n",
    "plt.show()\n"
   ]
  },
  {
   "cell_type": "markdown",
   "metadata": {},
   "source": [
    "Could we fit a linear regression line between girth and volume? Let's check the __correlation coefficient__ first."
   ]
  },
  {
   "cell_type": "code",
   "execution_count": 8,
   "metadata": {
    "collapsed": false
   },
   "outputs": [
    {
     "name": "stdout",
     "output_type": "stream",
     "text": [
      "Correlation matrix is  [[ 1.          0.96711937]\n",
      " [ 0.96711937  1.        ]]\n",
      "Correlation Coefficient is  0.967119368256\n"
     ]
    }
   ],
   "source": [
    "print \"Correlation matrix is \", np.corrcoef(girths, volumes)\n",
    "print \"Correlation Coefficient is \", np.corrcoef(girths, volumes)[0][1]"
   ]
  },
  {
   "cell_type": "markdown",
   "metadata": {},
   "source": [
    "Now let's fit the actual __linear regression__."
   ]
  },
  {
   "cell_type": "code",
   "execution_count": 9,
   "metadata": {
    "collapsed": false
   },
   "outputs": [
    {
     "name": "stdout",
     "output_type": "stream",
     "text": [
      "Best fit line: y = 5.06585642284 x -36.9434591246 , r = 0.967119368256\n"
     ]
    },
    {
     "data": {
      "image/png": "[encoded data removed]",
      "text/plain": [
       "<matplotlib.figure.Figure at 0x105b5a350>"
      ]
     },
     "metadata": {},
     "output_type": "display_data"
    }
   ],
   "source": [
    "from scipy.stats import linregress\n",
    "\n",
    "slope, intercept, r, p, stderr = linregress(girths, volumes)\n",
    "\n",
    "print \"Best fit line: y =\", slope, \"x\", intercept, \", r =\",r\n",
    "\n",
    "\n",
    "xvalues = np.linspace(min(girths), max(girths), 200) # this fills the range from min to max with 200 \n",
    "                                                     # equally spaced points\n",
    "yvalues = slope * xvalues + intercept\n",
    "\n",
    "plt.figure()\n",
    "plt.plot(xvalues, yvalues, linewidth=3.0, color='blue', linestyle='solid')\n",
    "plt.scatter(girths, volumes)\n",
    "plt.xlabel(\"Girths\", fontsize=20)\n",
    "plt.ylabel(\"Volumes\", fontsize=20)\n",
    "plt.title(\"Girths versus Volumes of Cherry Trees\", fontsize=20)\n",
    "plt.show()"
   ]
  },
  {
   "cell_type": "markdown",
   "metadata": {},
   "source": [
    "Looks good, but could be better. It looks like it curves downward first. __Could we fit a quadratic?__\n",
    "\n",
    "To do so, we have to use the `scipy.optimize` module's `curve_fit` function, which takes a function, input values, and output values, and returns the optimal parameters in the form `popt`."
   ]
  },
  {
   "cell_type": "code",
   "execution_count": 10,
   "metadata": {
    "collapsed": false
   },
   "outputs": [
    {
     "name": "stdout",
     "output_type": "stream",
     "text": [
      "Fitted quadratic is 0.254537569563 x^2 + -2.09213959391 + 10.7862656949\n"
     ]
    }
   ],
   "source": [
    "from scipy.optimize import curve_fit\n",
    "\n",
    "def quadratic(x, a, b, c):\n",
    "    return  a * x**2 + b * x + c\n",
    "\n",
    "\n",
    "popt, pcov = curve_fit(quadratic, girths, volumes)\n",
    "print \"Fitted quadratic is\", popt[0], \"x^2 +\", popt[1], \"+\", popt[2]"
   ]
  },
  {
   "cell_type": "markdown",
   "metadata": {},
   "source": [
    "How does it look?"
   ]
  },
  {
   "cell_type": "code",
   "execution_count": 11,
   "metadata": {
    "collapsed": false
   },
   "outputs": [
    {
     "data": {
      "image/png": "[encoded data removed]",
      "text/plain": [
       "<matplotlib.figure.Figure at 0x105c44e10>"
      ]
     },
     "metadata": {},
     "output_type": "display_data"
    }
   ],
   "source": [
    "yvalues_quad = [quadratic(x, popt[0], popt[1], popt[2]) for x in xvalues]\n",
    "plt.plot(xvalues, yvalues_quad, color='red', linestyle='-', label='Quadratic')\n",
    "plt.plot(xvalues, yvalues, linewidth=3.0, color='blue', linestyle='solid', label='Linear')\n",
    "plt.scatter(girths, volumes)\n",
    "plt.legend(loc='best')# this automatically finds the best location for the legend\n",
    "plt.show()"
   ]
  },
  {
   "cell_type": "markdown",
   "metadata": {},
   "source": [
    "Cool. We've explored some data and fit two different curves.\n",
    "Now let's try doing some __interpolation__. We'll use the cosine function."
   ]
  },
  {
   "cell_type": "code",
   "execution_count": 12,
   "metadata": {
    "collapsed": false
   },
   "outputs": [
    {
     "data": {
      "image/png": "[encoded data removed]",
      "text/plain": [
       "<matplotlib.figure.Figure at 0x105da4890>"
      ]
     },
     "metadata": {},
     "output_type": "display_data"
    }
   ],
   "source": [
    "r = 2.0\n",
    "thetas = np.linspace(0, 10, num=11)\n",
    "\n",
    "x = r * np.cos(thetas)\n",
    "plt.scatter(thetas, x)\n",
    "plt.xlabel(\"Theta\", fontsize=20)\n",
    "plt.ylabel(\"Cos(Theta)\", fontsize=20)\n",
    "plt.show()"
   ]
  },
  {
   "cell_type": "markdown",
   "metadata": {},
   "source": [
    "The `interp1d` function returns a function that you can call \n",
    "You can choose the type of interpolation to perform between points. By default, it's linear, but you can also fit higher order polyomials, which will fit the data better."
   ]
  },
  {
   "cell_type": "code",
   "execution_count": 13,
   "metadata": {
    "collapsed": true
   },
   "outputs": [],
   "source": [
    "from scipy.interpolate import interp1d\n",
    "f = interp1d(thetas, x)\n",
    "f2 = interp1d(thetas, x, kind='cubic')"
   ]
  },
  {
   "cell_type": "code",
   "execution_count": 14,
   "metadata": {
    "collapsed": false,
    "scrolled": true
   },
   "outputs": [
    {
     "data": {
      "image/png": "[encoded data removed]",
      "text/plain": [
       "<matplotlib.figure.Figure at 0x107486b50>"
      ]
     },
     "metadata": {},
     "output_type": "display_data"
    }
   ],
   "source": [
    "# These give functions\n",
    "new_thetas = np.linspace(0, 10, num=51)\n",
    "plt.plot(thetas, x, 'o', new_thetas , f(new_thetas ), '-', new_thetas,  f2(new_thetas), '--', linewidth=2.0)\n",
    "plt.legend(['data', 'linear', 'cubic'], loc='best')\n",
    "plt.xlabel(\"Theta\", fontsize=20)\n",
    "plt.ylabel(\"Cos(Theta)\", fontsize=20)\n",
    "plt.show()"
   ]
  }
 ],
 "metadata": {
  "kernelspec": {
   "display_name": "Python 2",
   "language": "python",
   "name": "python2"
  },
  "language_info": {
   "codemirror_mode": {
    "name": "ipython",
    "version": 2
   },
   "file_extension": ".py",
   "mimetype": "text/x-python",
   "name": "python",
   "nbconvert_exporter": "python",
   "pygments_lexer": "ipython2",
   "version": "2.7.10"
  }
 },
 "nbformat": 4,
 "nbformat_minor": 0
}
